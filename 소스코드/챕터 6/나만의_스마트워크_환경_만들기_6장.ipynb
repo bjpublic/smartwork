{
  "nbformat": 4,
  "nbformat_minor": 0,
  "metadata": {
    "colab": {
      "name": "워라밸 fastai",
      "provenance": [],
      "collapsed_sections": []
    },
    "kernelspec": {
      "name": "python3",
      "display_name": "Python 3"
    }
  },
  "cells": [
    {
      "cell_type": "markdown",
      "metadata": {
        "id": "QuwM6nrL1B4m",
        "colab_type": "text"
      },
      "source": [
        "# 패키지 설치"
      ]
    },
    {
      "cell_type": "code",
      "metadata": {
        "id": "jWsLCsICBfY4",
        "colab_type": "code",
        "outputId": "79526e2f-bb1c-4f1e-c23f-40a6df048421",
        "colab": {
          "base_uri": "https://localhost:8080/",
          "height": 1000
        }
      },
      "source": [
        "!pip install fastai==0.7\n",
        "!pip install scikit-learn==0.19.1"
      ],
      "execution_count": 0,
      "outputs": [
        {
          "output_type": "stream",
          "text": [
            "Collecting fastai==0.7\n",
            "\u001b[?25l  Downloading https://files.pythonhosted.org/packages/50/6d/9d0d6e17a78b0598d5e8c49a0d03ffc7ff265ae62eca3e2345fab14edb9b/fastai-0.7.0-py3-none-any.whl (112kB)\n",
            "\r\u001b[K     |███                             | 10kB 17.9MB/s eta 0:00:01\r\u001b[K     |█████▉                          | 20kB 1.7MB/s eta 0:00:01\r\u001b[K     |████████▊                       | 30kB 2.1MB/s eta 0:00:01\r\u001b[K     |███████████▋                    | 40kB 1.7MB/s eta 0:00:01\r\u001b[K     |██████████████▌                 | 51kB 1.8MB/s eta 0:00:01\r\u001b[K     |█████████████████▍              | 61kB 2.2MB/s eta 0:00:01\r\u001b[K     |████████████████████▍           | 71kB 2.4MB/s eta 0:00:01\r\u001b[K     |███████████████████████▎        | 81kB 2.5MB/s eta 0:00:01\r\u001b[K     |██████████████████████████▏     | 92kB 2.8MB/s eta 0:00:01\r\u001b[K     |█████████████████████████████   | 102kB 2.8MB/s eta 0:00:01\r\u001b[K     |████████████████████████████████| 112kB 2.8MB/s eta 0:00:01\r\u001b[K     |████████████████████████████████| 122kB 2.8MB/s \n",
            "\u001b[?25hRequirement already satisfied: decorator in /usr/local/lib/python3.6/dist-packages (from fastai==0.7) (4.4.2)\n",
            "Requirement already satisfied: pandas in /usr/local/lib/python3.6/dist-packages (from fastai==0.7) (1.0.3)\n",
            "Requirement already satisfied: bleach in /usr/local/lib/python3.6/dist-packages (from fastai==0.7) (3.1.5)\n",
            "Requirement already satisfied: scipy in /usr/local/lib/python3.6/dist-packages (from fastai==0.7) (1.4.1)\n",
            "Collecting isoweek\n",
            "  Downloading https://files.pythonhosted.org/packages/c2/d4/fe7e2637975c476734fcbf53776e650a29680194eb0dd21dbdc020ca92de/isoweek-1.3.3-py2.py3-none-any.whl\n",
            "Requirement already satisfied: matplotlib in /usr/local/lib/python3.6/dist-packages (from fastai==0.7) (3.2.1)\n",
            "Requirement already satisfied: seaborn in /usr/local/lib/python3.6/dist-packages (from fastai==0.7) (0.10.1)\n",
            "Requirement already satisfied: traitlets in /usr/local/lib/python3.6/dist-packages (from fastai==0.7) (4.3.3)\n",
            "Requirement already satisfied: pickleshare in /usr/local/lib/python3.6/dist-packages (from fastai==0.7) (0.7.5)\n",
            "Requirement already satisfied: Pygments in /usr/local/lib/python3.6/dist-packages (from fastai==0.7) (2.1.3)\n",
            "Requirement already satisfied: ipywidgets in /usr/local/lib/python3.6/dist-packages (from fastai==0.7) (7.5.1)\n",
            "Requirement already satisfied: certifi in /usr/local/lib/python3.6/dist-packages (from fastai==0.7) (2020.4.5.1)\n",
            "Requirement already satisfied: torchvision in /usr/local/lib/python3.6/dist-packages (from fastai==0.7) (0.6.0+cu101)\n",
            "Requirement already satisfied: simplegeneric in /usr/local/lib/python3.6/dist-packages (from fastai==0.7) (0.8.1)\n",
            "Requirement already satisfied: sklearn-pandas in /usr/local/lib/python3.6/dist-packages (from fastai==0.7) (1.8.0)\n",
            "Requirement already satisfied: graphviz in /usr/local/lib/python3.6/dist-packages (from fastai==0.7) (0.10.1)\n",
            "Requirement already satisfied: html5lib in /usr/local/lib/python3.6/dist-packages (from fastai==0.7) (1.0.1)\n",
            "Requirement already satisfied: torchtext in /usr/local/lib/python3.6/dist-packages (from fastai==0.7) (0.3.1)\n",
            "Requirement already satisfied: entrypoints in /usr/local/lib/python3.6/dist-packages (from fastai==0.7) (0.3)\n",
            "Requirement already satisfied: opencv-python in /usr/local/lib/python3.6/dist-packages (from fastai==0.7) (4.1.2.30)\n",
            "Requirement already satisfied: ptyprocess in /usr/local/lib/python3.6/dist-packages (from fastai==0.7) (0.6.0)\n",
            "Requirement already satisfied: numpy in /usr/local/lib/python3.6/dist-packages (from fastai==0.7) (1.18.4)\n",
            "Requirement already satisfied: jedi in /usr/local/lib/python3.6/dist-packages (from fastai==0.7) (0.17.0)\n",
            "Requirement already satisfied: wcwidth in /usr/local/lib/python3.6/dist-packages (from fastai==0.7) (0.1.9)\n",
            "Collecting torch<0.4\n",
            "\u001b[?25l  Downloading https://files.pythonhosted.org/packages/5b/a5/e8b50b55b1abac9f1e3346c4242f1e42a82d368a8442cbd50c532922f6c4/torch-0.3.1-cp36-cp36m-manylinux1_x86_64.whl (496.4MB)\n",
            "\u001b[K     |████████████████████████████████| 496.4MB 20kB/s \n",
            "\u001b[?25hCollecting bcolz\n",
            "\u001b[?25l  Downloading https://files.pythonhosted.org/packages/5c/4e/23942de9d5c0fb16f10335fa83e52b431bcb8c0d4a8419c9ac206268c279/bcolz-1.2.1.tar.gz (1.5MB)\n",
            "\u001b[K     |████████████████████████████████| 1.5MB 42.7MB/s \n",
            "\u001b[?25hRequirement already satisfied: pytz in /usr/local/lib/python3.6/dist-packages (from fastai==0.7) (2018.9)\n",
            "Requirement already satisfied: webencodings in /usr/local/lib/python3.6/dist-packages (from fastai==0.7) (0.5.1)\n",
            "Requirement already satisfied: tornado in /usr/local/lib/python3.6/dist-packages (from fastai==0.7) (4.5.3)\n",
            "Requirement already satisfied: tqdm in /usr/local/lib/python3.6/dist-packages (from fastai==0.7) (4.41.1)\n",
            "Requirement already satisfied: pyzmq in /usr/local/lib/python3.6/dist-packages (from fastai==0.7) (19.0.1)\n",
            "Requirement already satisfied: jsonschema in /usr/local/lib/python3.6/dist-packages (from fastai==0.7) (2.6.0)\n",
            "Requirement already satisfied: Jinja2 in /usr/local/lib/python3.6/dist-packages (from fastai==0.7) (2.11.2)\n",
            "Requirement already satisfied: ipython-genutils in /usr/local/lib/python3.6/dist-packages (from fastai==0.7) (0.2.0)\n",
            "Requirement already satisfied: jupyter in /usr/local/lib/python3.6/dist-packages (from fastai==0.7) (1.0.0)\n",
            "Requirement already satisfied: PyYAML in /usr/local/lib/python3.6/dist-packages (from fastai==0.7) (3.13)\n",
            "Requirement already satisfied: plotnine in /usr/local/lib/python3.6/dist-packages (from fastai==0.7) (0.6.0)\n",
            "Requirement already satisfied: testpath in /usr/local/lib/python3.6/dist-packages (from fastai==0.7) (0.4.4)\n",
            "Requirement already satisfied: MarkupSafe in /usr/local/lib/python3.6/dist-packages (from fastai==0.7) (1.1.1)\n",
            "Requirement already satisfied: cycler in /usr/local/lib/python3.6/dist-packages (from fastai==0.7) (0.10.0)\n",
            "Requirement already satisfied: Pillow in /usr/local/lib/python3.6/dist-packages (from fastai==0.7) (7.0.0)\n",
            "Requirement already satisfied: python-dateutil in /usr/local/lib/python3.6/dist-packages (from fastai==0.7) (2.8.1)\n",
            "Requirement already satisfied: pyparsing in /usr/local/lib/python3.6/dist-packages (from fastai==0.7) (2.4.7)\n",
            "Requirement already satisfied: feather-format in /usr/local/lib/python3.6/dist-packages (from fastai==0.7) (0.4.1)\n",
            "Collecting pandas-summary\n",
            "  Downloading https://files.pythonhosted.org/packages/f5/20/865d4785f86e86f7ad7ebd52fc14810ef59ef13cd959f1363a2615d1c665/pandas_summary-0.0.7-py2.py3-none-any.whl\n",
            "Requirement already satisfied: ipython in /usr/local/lib/python3.6/dist-packages (from fastai==0.7) (5.5.0)\n",
            "Requirement already satisfied: ipykernel in /usr/local/lib/python3.6/dist-packages (from fastai==0.7) (4.10.1)\n",
            "Requirement already satisfied: widgetsnbextension in /usr/local/lib/python3.6/dist-packages (from fastai==0.7) (3.5.1)\n",
            "Requirement already satisfied: packaging in /usr/local/lib/python3.6/dist-packages (from bleach->fastai==0.7) (20.3)\n",
            "Requirement already satisfied: six>=1.9.0 in /usr/local/lib/python3.6/dist-packages (from bleach->fastai==0.7) (1.12.0)\n",
            "Requirement already satisfied: kiwisolver>=1.0.1 in /usr/local/lib/python3.6/dist-packages (from matplotlib->fastai==0.7) (1.2.0)\n",
            "Requirement already satisfied: nbformat>=4.2.0 in /usr/local/lib/python3.6/dist-packages (from ipywidgets->fastai==0.7) (5.0.6)\n",
            "Requirement already satisfied: scikit-learn>=0.15.0 in /usr/local/lib/python3.6/dist-packages (from sklearn-pandas->fastai==0.7) (0.22.2.post1)\n",
            "Requirement already satisfied: requests in /usr/local/lib/python3.6/dist-packages (from torchtext->fastai==0.7) (2.23.0)\n",
            "Requirement already satisfied: parso>=0.7.0 in /usr/local/lib/python3.6/dist-packages (from jedi->fastai==0.7) (0.7.0)\n",
            "Requirement already satisfied: jupyter-console in /usr/local/lib/python3.6/dist-packages (from jupyter->fastai==0.7) (5.2.0)\n",
            "Requirement already satisfied: notebook in /usr/local/lib/python3.6/dist-packages (from jupyter->fastai==0.7) (5.2.2)\n",
            "Requirement already satisfied: qtconsole in /usr/local/lib/python3.6/dist-packages (from jupyter->fastai==0.7) (4.7.4)\n",
            "Requirement already satisfied: nbconvert in /usr/local/lib/python3.6/dist-packages (from jupyter->fastai==0.7) (5.6.1)\n",
            "Requirement already satisfied: statsmodels>=0.9.0 in /usr/local/lib/python3.6/dist-packages (from plotnine->fastai==0.7) (0.10.2)\n",
            "Requirement already satisfied: patsy>=0.4.1 in /usr/local/lib/python3.6/dist-packages (from plotnine->fastai==0.7) (0.5.1)\n",
            "Requirement already satisfied: mizani>=0.6.0 in /usr/local/lib/python3.6/dist-packages (from plotnine->fastai==0.7) (0.6.0)\n",
            "Requirement already satisfied: descartes>=1.1.0 in /usr/local/lib/python3.6/dist-packages (from plotnine->fastai==0.7) (1.1.0)\n",
            "Requirement already satisfied: pyarrow>=0.4.0 in /usr/local/lib/python3.6/dist-packages (from feather-format->fastai==0.7) (0.14.1)\n",
            "Requirement already satisfied: pexpect; sys_platform != \"win32\" in /usr/local/lib/python3.6/dist-packages (from ipython->fastai==0.7) (4.8.0)\n",
            "Requirement already satisfied: setuptools>=18.5 in /usr/local/lib/python3.6/dist-packages (from ipython->fastai==0.7) (46.3.0)\n",
            "Requirement already satisfied: prompt-toolkit<2.0.0,>=1.0.4 in /usr/local/lib/python3.6/dist-packages (from ipython->fastai==0.7) (1.0.18)\n",
            "Requirement already satisfied: jupyter-client in /usr/local/lib/python3.6/dist-packages (from ipykernel->fastai==0.7) (5.3.4)\n",
            "Requirement already satisfied: jupyter-core in /usr/local/lib/python3.6/dist-packages (from nbformat>=4.2.0->ipywidgets->fastai==0.7) (4.6.3)\n",
            "Requirement already satisfied: joblib>=0.11 in /usr/local/lib/python3.6/dist-packages (from scikit-learn>=0.15.0->sklearn-pandas->fastai==0.7) (0.15.0)\n",
            "Requirement already satisfied: chardet<4,>=3.0.2 in /usr/local/lib/python3.6/dist-packages (from requests->torchtext->fastai==0.7) (3.0.4)\n",
            "Requirement already satisfied: urllib3!=1.25.0,!=1.25.1,<1.26,>=1.21.1 in /usr/local/lib/python3.6/dist-packages (from requests->torchtext->fastai==0.7) (1.24.3)\n",
            "Requirement already satisfied: idna<3,>=2.5 in /usr/local/lib/python3.6/dist-packages (from requests->torchtext->fastai==0.7) (2.9)\n",
            "Requirement already satisfied: terminado>=0.3.3; sys_platform != \"win32\" in /usr/local/lib/python3.6/dist-packages (from notebook->jupyter->fastai==0.7) (0.8.3)\n",
            "Requirement already satisfied: qtpy in /usr/local/lib/python3.6/dist-packages (from qtconsole->jupyter->fastai==0.7) (1.9.0)\n",
            "Requirement already satisfied: pandocfilters>=1.4.1 in /usr/local/lib/python3.6/dist-packages (from nbconvert->jupyter->fastai==0.7) (1.4.2)\n",
            "Requirement already satisfied: defusedxml in /usr/local/lib/python3.6/dist-packages (from nbconvert->jupyter->fastai==0.7) (0.6.0)\n",
            "Requirement already satisfied: mistune<2,>=0.8.1 in /usr/local/lib/python3.6/dist-packages (from nbconvert->jupyter->fastai==0.7) (0.8.4)\n",
            "Requirement already satisfied: palettable in /usr/local/lib/python3.6/dist-packages (from mizani>=0.6.0->plotnine->fastai==0.7) (3.3.0)\n",
            "Building wheels for collected packages: bcolz\n",
            "  Building wheel for bcolz (setup.py) ... \u001b[?25l\u001b[?25hdone\n",
            "  Created wheel for bcolz: filename=bcolz-1.2.1-cp36-cp36m-linux_x86_64.whl size=2666640 sha256=d414b4e811a1bdd1ece00d1cf1d88983bc8ab7b479d027091d185da26f327496\n",
            "  Stored in directory: /root/.cache/pip/wheels/9f/78/26/fb8c0acb91a100dc8914bf236c4eaa4b207cb876893c40b745\n",
            "Successfully built bcolz\n",
            "\u001b[31mERROR: torchvision 0.6.0+cu101 has requirement torch==1.5.0, but you'll have torch 0.3.1 which is incompatible.\u001b[0m\n",
            "Installing collected packages: isoweek, torch, bcolz, pandas-summary, fastai\n",
            "  Found existing installation: torch 1.5.0+cu101\n",
            "    Uninstalling torch-1.5.0+cu101:\n",
            "      Successfully uninstalled torch-1.5.0+cu101\n",
            "  Found existing installation: fastai 1.0.61\n",
            "    Uninstalling fastai-1.0.61:\n",
            "      Successfully uninstalled fastai-1.0.61\n",
            "Successfully installed bcolz-1.2.1 fastai-0.7.0 isoweek-1.3.3 pandas-summary-0.0.7 torch-0.3.1\n",
            "Collecting scikit-learn==0.19.1\n",
            "\u001b[?25l  Downloading https://files.pythonhosted.org/packages/3d/2d/9fbc7baa5f44bc9e88ffb7ed32721b879bfa416573e85031e16f52569bc9/scikit_learn-0.19.1-cp36-cp36m-manylinux1_x86_64.whl (12.4MB)\n",
            "\u001b[K     |████████████████████████████████| 12.4MB 2.8MB/s \n",
            "\u001b[31mERROR: yellowbrick 0.9.1 has requirement scikit-learn>=0.20, but you'll have scikit-learn 0.19.1 which is incompatible.\u001b[0m\n",
            "\u001b[31mERROR: umap-learn 0.4.3 has requirement scikit-learn>=0.20, but you'll have scikit-learn 0.19.1 which is incompatible.\u001b[0m\n",
            "\u001b[31mERROR: imbalanced-learn 0.4.3 has requirement scikit-learn>=0.20, but you'll have scikit-learn 0.19.1 which is incompatible.\u001b[0m\n",
            "\u001b[?25hInstalling collected packages: scikit-learn\n",
            "  Found existing installation: scikit-learn 0.22.2.post1\n",
            "    Uninstalling scikit-learn-0.22.2.post1:\n",
            "      Successfully uninstalled scikit-learn-0.22.2.post1\n",
            "Successfully installed scikit-learn-0.19.1\n"
          ],
          "name": "stdout"
        }
      ]
    },
    {
      "cell_type": "markdown",
      "metadata": {
        "id": "NMDOnrNt1F6x",
        "colab_type": "text"
      },
      "source": [
        "# 필요한 패키지 import"
      ]
    },
    {
      "cell_type": "code",
      "metadata": {
        "id": "Yt8-83J9Hozf",
        "colab_type": "code",
        "outputId": "d1e825c4-ddea-442e-e649-8cbffaf3b0f6",
        "colab": {
          "base_uri": "https://localhost:8080/",
          "height": 106
        }
      },
      "source": [
        "%matplotlib inline\n",
        "\n",
        "from fastai.imports import *\n",
        "from fastai.structured import *\n",
        "from pandas_summary import DataFrameSummary\n",
        "from sklearn.ensemble import RandomForestRegressor\n",
        "from IPython.display import display\n",
        "\n",
        "from sklearn import metrics\n",
        "from pathlib import Path\n",
        "\n",
        "import pandas as pd\n",
        "import numpy as np"
      ],
      "execution_count": 0,
      "outputs": [
        {
          "output_type": "stream",
          "text": [
            "/usr/local/lib/python3.6/dist-packages/statsmodels/tools/_testing.py:19: FutureWarning: pandas.util.testing is deprecated. Use the functions in the public API at pandas.testing instead.\n",
            "  import pandas.util.testing as tm\n",
            "/usr/local/lib/python3.6/dist-packages/sklearn/ensemble/weight_boosting.py:29: DeprecationWarning: numpy.core.umath_tests is an internal NumPy module and should not be imported. It will be removed in a future NumPy release.\n",
            "  from numpy.core.umath_tests import inner1d\n"
          ],
          "name": "stderr"
        }
      ]
    },
    {
      "cell_type": "markdown",
      "metadata": {
        "id": "JK4930Jy1TnO",
        "colab_type": "text"
      },
      "source": [
        "# 전처리"
      ]
    },
    {
      "cell_type": "markdown",
      "metadata": {
        "id": "XxxCkGIX1V18",
        "colab_type": "text"
      },
      "source": [
        "## 데이터를 Pandas DataFrame으로 불러오기"
      ]
    },
    {
      "cell_type": "code",
      "metadata": {
        "id": "HVsBp8FSH__w",
        "colab_type": "code",
        "colab": {}
      },
      "source": [
        "PATH = Path('/content')\n",
        "df = pd.read_csv(PATH/'Train.csv', low_memory=False, parse_dates=['saledate'])"
      ],
      "execution_count": 0,
      "outputs": []
    },
    {
      "cell_type": "markdown",
      "metadata": {
        "id": "ChRv8AVz1TCp",
        "colab_type": "text"
      },
      "source": [
        "## 날짜 데이터로부터 추가적인 정보 생성및 삽입"
      ]
    },
    {
      "cell_type": "code",
      "metadata": {
        "id": "mCzaR6xiIJ7B",
        "colab_type": "code",
        "colab": {}
      },
      "source": [
        "add_datepart(df, 'saledate')"
      ],
      "execution_count": 0,
      "outputs": []
    },
    {
      "cell_type": "markdown",
      "metadata": {
        "id": "niarZkno1g1V",
        "colab_type": "text"
      },
      "source": [
        "## 범주형 데이터에 대한 속성 추가"
      ]
    },
    {
      "cell_type": "code",
      "metadata": {
        "id": "-kZPrHFWIX_v",
        "colab_type": "code",
        "colab": {}
      },
      "source": [
        "train_cats(df)"
      ],
      "execution_count": 0,
      "outputs": []
    },
    {
      "cell_type": "markdown",
      "metadata": {
        "id": "SSi7h8p11nA8",
        "colab_type": "text"
      },
      "source": [
        "## 'SalePrice'를 레이블로, 훈련/정답 데이터 분할"
      ]
    },
    {
      "cell_type": "code",
      "metadata": {
        "id": "iP5ry_YiIaQD",
        "colab_type": "code",
        "colab": {}
      },
      "source": [
        "X, y, nas = proc_df(df, 'SalePrice')"
      ],
      "execution_count": 0,
      "outputs": []
    },
    {
      "cell_type": "markdown",
      "metadata": {
        "id": "pyuAfNLH21Az",
        "colab_type": "text"
      },
      "source": [
        "## 레이블 값에 LOG 취해주기"
      ]
    },
    {
      "cell_type": "code",
      "metadata": {
        "id": "1FtdmHilJFSY",
        "colab_type": "code",
        "colab": {}
      },
      "source": [
        "y = np.log(y)"
      ],
      "execution_count": 0,
      "outputs": []
    },
    {
      "cell_type": "markdown",
      "metadata": {
        "id": "pxWNWSRv25Rc",
        "colab_type": "text"
      },
      "source": [
        "# 랜덤포레스트 모델 훈련의 첫 시도 "
      ]
    },
    {
      "cell_type": "code",
      "metadata": {
        "id": "eCfjHk3KKdG3",
        "colab_type": "code",
        "outputId": "2a14ed3c-d0a4-489b-87d9-d6af33671fe7",
        "colab": {
          "base_uri": "https://localhost:8080/",
          "height": 121
        }
      },
      "source": [
        "model = RandomForestRegressor(n_jobs=-1)\n",
        "model.fit(X, y)"
      ],
      "execution_count": 0,
      "outputs": [
        {
          "output_type": "execute_result",
          "data": {
            "text/plain": [
              "RandomForestRegressor(bootstrap=True, criterion='mse', max_depth=None,\n",
              "           max_features='auto', max_leaf_nodes=None,\n",
              "           min_impurity_decrease=0.0, min_impurity_split=None,\n",
              "           min_samples_leaf=1, min_samples_split=2,\n",
              "           min_weight_fraction_leaf=0.0, n_estimators=10, n_jobs=-1,\n",
              "           oob_score=False, random_state=None, verbose=0, warm_start=False)"
            ]
          },
          "metadata": {
            "tags": []
          },
          "execution_count": 10
        }
      ]
    },
    {
      "cell_type": "markdown",
      "metadata": {
        "id": "NRss19n83KSN",
        "colab_type": "text"
      },
      "source": [
        "### 훈련된 모델로 예측 값 구해보기"
      ]
    },
    {
      "cell_type": "code",
      "metadata": {
        "id": "FjVaka6n07MQ",
        "colab_type": "code",
        "outputId": "650812a8-9e0d-4d34-b752-1ab7f1c58025",
        "colab": {
          "base_uri": "https://localhost:8080/",
          "height": 35
        }
      },
      "source": [
        "# 배열 전체에 대해서\n",
        "model.predict(X)"
      ],
      "execution_count": 0,
      "outputs": [
        {
          "output_type": "execute_result",
          "data": {
            "text/plain": [
              "array([11.0797 , 10.92821,  9.24663, ...,  9.33191,  9.08601,  9.04115])"
            ]
          },
          "metadata": {
            "tags": []
          },
          "execution_count": 19
        }
      ]
    },
    {
      "cell_type": "code",
      "metadata": {
        "id": "ohBXN9--yQBB",
        "colab_type": "code",
        "outputId": "bfcbe0bb-f15c-4b31-8fec-c9b5edecc329",
        "colab": {
          "base_uri": "https://localhost:8080/",
          "height": 35
        }
      },
      "source": [
        "# 하나의 값에 대해서\n",
        "model.predict(X[:1])"
      ],
      "execution_count": 0,
      "outputs": [
        {
          "output_type": "execute_result",
          "data": {
            "text/plain": [
              "array([11.0797])"
            ]
          },
          "metadata": {
            "tags": []
          },
          "execution_count": 18
        }
      ]
    },
    {
      "cell_type": "markdown",
      "metadata": {
        "id": "Om9-LUoF3U5Z",
        "colab_type": "text"
      },
      "source": [
        "### 훈련된 모델의 성능 평가"
      ]
    },
    {
      "cell_type": "code",
      "metadata": {
        "id": "kU4mahiiKkl2",
        "colab_type": "code",
        "outputId": "b2c8be6d-fbee-44ff-d6ec-4875cb3e76ec",
        "colab": {
          "base_uri": "https://localhost:8080/",
          "height": 34
        }
      },
      "source": [
        "print(model.score(X, y))"
      ],
      "execution_count": 0,
      "outputs": [
        {
          "output_type": "stream",
          "text": [
            "0.9829824841347204\n"
          ],
          "name": "stdout"
        }
      ]
    },
    {
      "cell_type": "markdown",
      "metadata": {
        "id": "eMswYBxB3d5g",
        "colab_type": "text"
      },
      "source": [
        "# 훈련-검증 데이터셋 분리 작업"
      ]
    },
    {
      "cell_type": "code",
      "metadata": {
        "id": "1GS6KQkZK96N",
        "colab_type": "code",
        "colab": {}
      },
      "source": [
        "def split_valid_set(entire_df, num_train): \n",
        "   return entire_df[:num_train].copy(), entire_df[num_train:].copy()"
      ],
      "execution_count": 0,
      "outputs": []
    },
    {
      "cell_type": "code",
      "metadata": {
        "id": "T1TnTrhqLGrI",
        "colab_type": "code",
        "outputId": "ae85882b-e3d4-461e-935c-d8d7e829d39a",
        "colab": {
          "base_uri": "https://localhost:8080/",
          "height": 34
        }
      },
      "source": [
        "num_valid            = 12000  \n",
        "num_train            = len(X) - num_valid\n",
        "X_train, X_valid     = split_valid_set(X, num_train)\n",
        "y_train, y_valid     = split_valid_set(y, num_train)\n",
        "\n",
        "print(X_train.shape, y_train.shape, X_valid.shape, y_valid.shape)"
      ],
      "execution_count": 0,
      "outputs": [
        {
          "output_type": "stream",
          "text": [
            "(389125, 66) (389125,) (12000, 66) (12000,)\n"
          ],
          "name": "stdout"
        }
      ]
    },
    {
      "cell_type": "markdown",
      "metadata": {
        "id": "VyE1m2YQ3gZd",
        "colab_type": "text"
      },
      "source": [
        "## 모델 성능 평가 방식에 RMSE도 추가"
      ]
    },
    {
      "cell_type": "code",
      "metadata": {
        "id": "0UtvduHcLJn7",
        "colab_type": "code",
        "colab": {}
      },
      "source": [
        "def rmse(x,y): return math.sqrt(((x-y)**2).mean())\n",
        "\n",
        "def print_score(model):\n",
        "   scores = [rmse(model.predict(X_train), y_train), \n",
        "            rmse(model.predict(X_valid), y_valid),\n",
        "            model.score(X_train, y_train),\n",
        "            model.score(X_valid, y_valid)]\n",
        "   print(scores)"
      ],
      "execution_count": 0,
      "outputs": []
    },
    {
      "cell_type": "markdown",
      "metadata": {
        "id": "x1D8_hz73ndM",
        "colab_type": "text"
      },
      "source": [
        "### 모델을 훈련 데이터셋에 대하여 다시 학습시켜보기"
      ]
    },
    {
      "cell_type": "code",
      "metadata": {
        "id": "0dan2Ni-LNqr",
        "colab_type": "code",
        "outputId": "3a034261-3e52-4e7d-c48c-49d99df28741",
        "colab": {
          "base_uri": "https://localhost:8080/",
          "height": 34
        }
      },
      "source": [
        "model = RandomForestRegressor(n_jobs=-1)\n",
        "model.fit(X_train, y_train)\n",
        "print_score(model)"
      ],
      "execution_count": 0,
      "outputs": [
        {
          "output_type": "stream",
          "text": [
            "[0.09056738446238667, 0.24892851918014958, 0.9828573295029892, 0.8893383133600861]\n"
          ],
          "name": "stdout"
        }
      ]
    },
    {
      "cell_type": "markdown",
      "metadata": {
        "id": "yrEb1oqP3t6T",
        "colab_type": "text"
      },
      "source": [
        "### proc_df를 이용해서, 데이터셋의 부분집합 만들기"
      ]
    },
    {
      "cell_type": "code",
      "metadata": {
        "id": "4bbR16xbLR8j",
        "colab_type": "code",
        "outputId": "c9f792a3-11c8-45de-9818-b37c81babb3a",
        "colab": {
          "base_uri": "https://localhost:8080/",
          "height": 34
        }
      },
      "source": [
        "X_sub, y_sub, nas = proc_df(df, 'SalePrice', subset=30000, na_dict=nas)\n",
        "y_sub = np.log(y_sub)\n",
        "X_train, _ = split_valid_set(X_sub, 20000)\n",
        "y_train, _ = split_valid_set(y_sub, 20000)\n",
        "\n",
        "model = RandomForestRegressor(n_jobs=-1)\n",
        "model.fit(X_train, y_train)\n",
        "\n",
        "print_score(model)"
      ],
      "execution_count": 0,
      "outputs": [
        {
          "output_type": "stream",
          "text": [
            "[0.03810772727516497, 0.3893719062076929, 0.9968392244558948, 0.729244554162841]\n"
          ],
          "name": "stdout"
        }
      ]
    },
    {
      "cell_type": "markdown",
      "metadata": {
        "id": "7oHjiCbM30h9",
        "colab_type": "text"
      },
      "source": [
        "### %time 명령어로 훈련에 걸리는 시간 측정"
      ]
    },
    {
      "cell_type": "code",
      "metadata": {
        "id": "cg8xKjHKMsey",
        "colab_type": "code",
        "outputId": "c43cb61d-e769-46d4-b4b4-12b2a01b30d1",
        "colab": {
          "base_uri": "https://localhost:8080/",
          "height": 151
        }
      },
      "source": [
        "%time model.fit(X_train, y_train)"
      ],
      "execution_count": 0,
      "outputs": [
        {
          "output_type": "stream",
          "text": [
            "CPU times: user 41.6 s, sys: 178 ms, total: 41.8 s\n",
            "Wall time: 24.7 s\n"
          ],
          "name": "stdout"
        },
        {
          "output_type": "execute_result",
          "data": {
            "text/plain": [
              "RandomForestRegressor(bootstrap=True, criterion='mse', max_depth=None,\n",
              "           max_features=0.5, max_leaf_nodes=None,\n",
              "           min_impurity_decrease=0.0, min_impurity_split=None,\n",
              "           min_samples_leaf=3, min_samples_split=2,\n",
              "           min_weight_fraction_leaf=0.0, n_estimators=40, n_jobs=-1,\n",
              "           oob_score=True, random_state=None, verbose=0, warm_start=False)"
            ]
          },
          "metadata": {
            "tags": []
          },
          "execution_count": 94
        }
      ]
    },
    {
      "cell_type": "markdown",
      "metadata": {
        "id": "t9g1MoL635bM",
        "colab_type": "text"
      },
      "source": [
        "# 랜덤포레스트의 단일 결정 나무 분석"
      ]
    },
    {
      "cell_type": "markdown",
      "metadata": {
        "id": "avjh1UrV4agW",
        "colab_type": "text"
      },
      "source": [
        "## 하나의 결정 나무로 만들어진 랜덤포레스트 모델 훈련시키기"
      ]
    },
    {
      "cell_type": "code",
      "metadata": {
        "id": "k3rqKqt9Onfy",
        "colab_type": "code",
        "outputId": "c2514a74-691f-40e2-c1eb-46b6dd7339ae",
        "colab": {
          "base_uri": "https://localhost:8080/",
          "height": 34
        }
      },
      "source": [
        "model = RandomForestRegressor(n_estimators=1, max_depth=3, \n",
        "                               bootstrap=False, n_jobs=-1)\n",
        "model.fit(X_train, y_train)\n",
        "print_score(model)"
      ],
      "execution_count": 0,
      "outputs": [
        {
          "output_type": "stream",
          "text": [
            "[0.5242958275022648, 0.5829386872895965, 0.4016981268968718, 0.39313270785972987]\n"
          ],
          "name": "stdout"
        }
      ]
    },
    {
      "cell_type": "markdown",
      "metadata": {
        "id": "WtnFb3Fr4fCm",
        "colab_type": "text"
      },
      "source": [
        "## 학습된 모델의 첫 번째 결정나무를 시각화"
      ]
    },
    {
      "cell_type": "code",
      "metadata": {
        "id": "ZQ620ymMOy2_",
        "colab_type": "code",
        "outputId": "3298a677-67fb-4ab4-c3ff-1f0d702d7672",
        "colab": {
          "base_uri": "https://localhost:8080/",
          "height": 620
        }
      },
      "source": [
        "draw_tree(model.estimators_[0], X_sub, precision=3)"
      ],
      "execution_count": 0,
      "outputs": [
        {
          "output_type": "display_data",
          "data": {
            "text/plain": [
              "<graphviz.files.Source at 0x7f3353679860>"
            ],
            "image/svg+xml": "<?xml version=\"1.0\" encoding=\"UTF-8\" standalone=\"no\"?>\n<!DOCTYPE svg PUBLIC \"-//W3C//DTD SVG 1.1//EN\"\n \"http://www.w3.org/Graphics/SVG/1.1/DTD/svg11.dtd\">\n<!-- Generated by graphviz version 2.40.1 (20161225.0304)\n -->\n<!-- Title: Tree Pages: 1 -->\n<svg width=\"720pt\" height=\"434pt\"\n viewBox=\"0.00 0.00 720.00 434.49\" xmlns=\"http://www.w3.org/2000/svg\" xmlns:xlink=\"http://www.w3.org/1999/xlink\">\n<g id=\"graph0\" class=\"graph\" transform=\"scale(.7787 .7787) rotate(0) translate(4 554)\">\n<title>Tree</title>\n<polygon fill=\"#ffffff\" stroke=\"transparent\" points=\"-4,4 -4,-554 920.6667,-554 920.6667,4 -4,4\"/>\n<!-- 0 -->\n<g id=\"node1\" class=\"node\">\n<title>0</title>\n<polygon fill=\"#e58139\" fill-opacity=\"0.764706\" stroke=\"#000000\" points=\"171.6667,-336.5 25.6667,-336.5 25.6667,-268.5 171.6667,-268.5 171.6667,-336.5\"/>\n<text text-anchor=\"start\" x=\"33.6667\" y=\"-321.3\" font-family=\"Times,serif\" font-size=\"14.00\" fill=\"#000000\">Coupler_System ≤ 0.5</text>\n<text text-anchor=\"start\" x=\"62.1667\" y=\"-306.3\" font-family=\"Times,serif\" font-size=\"14.00\" fill=\"#000000\">mse = 0.459</text>\n<text text-anchor=\"start\" x=\"49.1667\" y=\"-291.3\" font-family=\"Times,serif\" font-size=\"14.00\" fill=\"#000000\">samples = 20000</text>\n<text text-anchor=\"start\" x=\"54.6667\" y=\"-276.3\" font-family=\"Times,serif\" font-size=\"14.00\" fill=\"#000000\">value = 10.124</text>\n</g>\n<!-- 1 -->\n<g id=\"node2\" class=\"node\">\n<title>1</title>\n<polygon fill=\"#e58139\" fill-opacity=\"0.819608\" stroke=\"#000000\" points=\"401.1667,-372.5 270.1667,-372.5 270.1667,-304.5 401.1667,-304.5 401.1667,-372.5\"/>\n<text text-anchor=\"start\" x=\"278.1667\" y=\"-357.3\" font-family=\"Times,serif\" font-size=\"14.00\" fill=\"#000000\">YearMade ≤ 1980.5</text>\n<text text-anchor=\"start\" x=\"306.6667\" y=\"-342.3\" font-family=\"Times,serif\" font-size=\"14.00\" fill=\"#000000\">mse = 0.4</text>\n<text text-anchor=\"start\" x=\"286.1667\" y=\"-327.3\" font-family=\"Times,serif\" font-size=\"14.00\" fill=\"#000000\">samples = 18327</text>\n<text text-anchor=\"start\" x=\"291.6667\" y=\"-312.3\" font-family=\"Times,serif\" font-size=\"14.00\" fill=\"#000000\">value = 10.211</text>\n</g>\n<!-- 0&#45;&gt;1 -->\n<g id=\"edge1\" class=\"edge\">\n<title>0&#45;&gt;1</title>\n<path fill=\"none\" stroke=\"#000000\" d=\"M171.7083,-313.5949C199.6899,-317.8453 231.6573,-322.7011 259.8894,-326.9895\"/>\n<polygon fill=\"#000000\" stroke=\"#000000\" points=\"259.6952,-330.5001 270.1074,-328.5416 260.7464,-323.5795 259.6952,-330.5001\"/>\n<text text-anchor=\"middle\" x=\"249.9754\" y=\"-339.6641\" font-family=\"Times,serif\" font-size=\"14.00\" fill=\"#000000\">True</text>\n</g>\n<!-- 8 -->\n<g id=\"node9\" class=\"node\">\n<title>8</title>\n<polygon fill=\"#e58139\" fill-opacity=\"0.152941\" stroke=\"#000000\" points=\"401.1667,-245.5 270.1667,-245.5 270.1667,-177.5 401.1667,-177.5 401.1667,-245.5\"/>\n<text text-anchor=\"start\" x=\"278.1667\" y=\"-230.3\" font-family=\"Times,serif\" font-size=\"14.00\" fill=\"#000000\">YearMade ≤ 1997.5</text>\n<text text-anchor=\"start\" x=\"299.6667\" y=\"-215.3\" font-family=\"Times,serif\" font-size=\"14.00\" fill=\"#000000\">mse = 0.116</text>\n<text text-anchor=\"start\" x=\"290.1667\" y=\"-200.3\" font-family=\"Times,serif\" font-size=\"14.00\" fill=\"#000000\">samples = 1673</text>\n<text text-anchor=\"start\" x=\"295.1667\" y=\"-185.3\" font-family=\"Times,serif\" font-size=\"14.00\" fill=\"#000000\">value = 9.171</text>\n</g>\n<!-- 0&#45;&gt;8 -->\n<g id=\"edge8\" class=\"edge\">\n<title>0&#45;&gt;8</title>\n<path fill=\"none\" stroke=\"#000000\" d=\"M171.7083,-274.4545C199.9354,-263.6162 232.2185,-251.2206 260.6315,-240.311\"/>\n<polygon fill=\"#000000\" stroke=\"#000000\" points=\"262.0265,-243.5245 270.1074,-236.6725 259.5173,-236.9897 262.0265,-243.5245\"/>\n<text text-anchor=\"middle\" x=\"247.2678\" y=\"-222.8062\" font-family=\"Times,serif\" font-size=\"14.00\" fill=\"#000000\">False</text>\n</g>\n<!-- 2 -->\n<g id=\"node3\" class=\"node\">\n<title>2</title>\n<polygon fill=\"#e58139\" fill-opacity=\"0.568627\" stroke=\"#000000\" points=\"655.1667,-486.5 530.1667,-486.5 530.1667,-418.5 655.1667,-418.5 655.1667,-486.5\"/>\n<text text-anchor=\"start\" x=\"538.1667\" y=\"-471.3\" font-family=\"Times,serif\" font-size=\"14.00\" fill=\"#000000\">ModelID ≤ 4516.5</text>\n<text text-anchor=\"start\" x=\"556.1667\" y=\"-456.3\" font-family=\"Times,serif\" font-size=\"14.00\" fill=\"#000000\">mse = 0.287</text>\n<text text-anchor=\"start\" x=\"547.1667\" y=\"-441.3\" font-family=\"Times,serif\" font-size=\"14.00\" fill=\"#000000\">samples = 4215</text>\n<text text-anchor=\"start\" x=\"552.1667\" y=\"-426.3\" font-family=\"Times,serif\" font-size=\"14.00\" fill=\"#000000\">value = 9.818</text>\n</g>\n<!-- 1&#45;&gt;2 -->\n<g id=\"edge2\" class=\"edge\">\n<title>1&#45;&gt;2</title>\n<path fill=\"none\" stroke=\"#000000\" d=\"M401.1836,-367.562C437.6516,-383.7384 483.111,-403.9033 520.5838,-420.5255\"/>\n<polygon fill=\"#000000\" stroke=\"#000000\" points=\"519.3681,-423.8151 529.9284,-424.6706 522.2065,-417.4164 519.3681,-423.8151\"/>\n</g>\n<!-- 5 -->\n<g id=\"node6\" class=\"node\">\n<title>5</title>\n<polygon fill=\"#e58139\" fill-opacity=\"0.894118\" stroke=\"#000000\" points=\"673.1667,-372.5 512.1667,-372.5 512.1667,-304.5 673.1667,-304.5 673.1667,-372.5\"/>\n<text text-anchor=\"start\" x=\"520.1667\" y=\"-357.3\" font-family=\"Times,serif\" font-size=\"14.00\" fill=\"#000000\">fiProductClassDesc ≤ 6.5</text>\n<text text-anchor=\"start\" x=\"556.1667\" y=\"-342.3\" font-family=\"Times,serif\" font-size=\"14.00\" fill=\"#000000\">mse = 0.375</text>\n<text text-anchor=\"start\" x=\"543.6667\" y=\"-327.3\" font-family=\"Times,serif\" font-size=\"14.00\" fill=\"#000000\">samples = 14112</text>\n<text text-anchor=\"start\" x=\"548.6667\" y=\"-312.3\" font-family=\"Times,serif\" font-size=\"14.00\" fill=\"#000000\">value = 10.328</text>\n</g>\n<!-- 1&#45;&gt;5 -->\n<g id=\"edge5\" class=\"edge\">\n<title>1&#45;&gt;5</title>\n<path fill=\"none\" stroke=\"#000000\" d=\"M401.1836,-338.5C431.7773,-338.5 468.699,-338.5 501.9247,-338.5\"/>\n<polygon fill=\"#000000\" stroke=\"#000000\" points=\"502.1063,-342.0001 512.1063,-338.5 502.1063,-335.0001 502.1063,-342.0001\"/>\n</g>\n<!-- 3 -->\n<g id=\"node4\" class=\"node\">\n<title>3</title>\n<polygon fill=\"#e58139\" fill-opacity=\"0.678431\" stroke=\"#000000\" points=\"892.1667,-550 785.1667,-550 785.1667,-497 892.1667,-497 892.1667,-550\"/>\n<text text-anchor=\"start\" x=\"802.1667\" y=\"-534.8\" font-family=\"Times,serif\" font-size=\"14.00\" fill=\"#000000\">mse = 0.298</text>\n<text text-anchor=\"start\" x=\"793.1667\" y=\"-519.8\" font-family=\"Times,serif\" font-size=\"14.00\" fill=\"#000000\">samples = 2160</text>\n<text text-anchor=\"start\" x=\"802.1667\" y=\"-504.8\" font-family=\"Times,serif\" font-size=\"14.00\" fill=\"#000000\">value = 9.99</text>\n</g>\n<!-- 2&#45;&gt;3 -->\n<g id=\"edge3\" class=\"edge\">\n<title>2&#45;&gt;3</title>\n<path fill=\"none\" stroke=\"#000000\" d=\"M655.3794,-470.6C692.0987,-481.1979 738.3413,-494.5443 775.1914,-505.1799\"/>\n<polygon fill=\"#000000\" stroke=\"#000000\" points=\"774.2534,-508.552 784.8318,-507.9623 776.1945,-501.8265 774.2534,-508.552\"/>\n</g>\n<!-- 4 -->\n<g id=\"node5\" class=\"node\">\n<title>4</title>\n<polygon fill=\"#e58139\" fill-opacity=\"0.450980\" stroke=\"#000000\" points=\"892.1667,-479 785.1667,-479 785.1667,-426 892.1667,-426 892.1667,-479\"/>\n<text text-anchor=\"start\" x=\"802.6667\" y=\"-463.8\" font-family=\"Times,serif\" font-size=\"14.00\" fill=\"#000000\">mse = 0.211</text>\n<text text-anchor=\"start\" x=\"793.1667\" y=\"-448.8\" font-family=\"Times,serif\" font-size=\"14.00\" fill=\"#000000\">samples = 2055</text>\n<text text-anchor=\"start\" x=\"798.1667\" y=\"-433.8\" font-family=\"Times,serif\" font-size=\"14.00\" fill=\"#000000\">value = 9.638</text>\n</g>\n<!-- 2&#45;&gt;4 -->\n<g id=\"edge4\" class=\"edge\">\n<title>2&#45;&gt;4</title>\n<path fill=\"none\" stroke=\"#000000\" d=\"M655.3794,-452.5C691.9424,-452.5 737.948,-452.5 774.7204,-452.5\"/>\n<polygon fill=\"#000000\" stroke=\"#000000\" points=\"774.8318,-456.0001 784.8318,-452.5 774.8318,-449.0001 774.8318,-456.0001\"/>\n</g>\n<!-- 6 -->\n<g id=\"node7\" class=\"node\">\n<title>6</title>\n<polygon fill=\"#e58139\" fill-opacity=\"0.615686\" stroke=\"#000000\" points=\"892.1667,-408 785.1667,-408 785.1667,-355 892.1667,-355 892.1667,-408\"/>\n<text text-anchor=\"start\" x=\"802.1667\" y=\"-392.8\" font-family=\"Times,serif\" font-size=\"14.00\" fill=\"#000000\">mse = 0.133</text>\n<text text-anchor=\"start\" x=\"793.1667\" y=\"-377.8\" font-family=\"Times,serif\" font-size=\"14.00\" fill=\"#000000\">samples = 3859</text>\n<text text-anchor=\"start\" x=\"798.1667\" y=\"-362.8\" font-family=\"Times,serif\" font-size=\"14.00\" fill=\"#000000\">value = 9.894</text>\n</g>\n<!-- 5&#45;&gt;6 -->\n<g id=\"edge6\" class=\"edge\">\n<title>5&#45;&gt;6</title>\n<path fill=\"none\" stroke=\"#000000\" d=\"M673.2163,-352.5798C706.2004,-358.3453 743.8266,-364.9223 774.8548,-370.3459\"/>\n<polygon fill=\"#000000\" stroke=\"#000000\" points=\"774.6549,-373.8639 785.1082,-372.1382 775.8603,-366.9685 774.6549,-373.8639\"/>\n</g>\n<!-- 7 -->\n<g id=\"node8\" class=\"node\">\n<title>7</title>\n<polygon fill=\"#e58139\" stroke=\"#000000\" points=\"896.1667,-337 781.1667,-337 781.1667,-284 896.1667,-284 896.1667,-337\"/>\n<text text-anchor=\"start\" x=\"802.1667\" y=\"-321.8\" font-family=\"Times,serif\" font-size=\"14.00\" fill=\"#000000\">mse = 0.368</text>\n<text text-anchor=\"start\" x=\"789.1667\" y=\"-306.8\" font-family=\"Times,serif\" font-size=\"14.00\" fill=\"#000000\">samples = 10253</text>\n<text text-anchor=\"start\" x=\"794.6667\" y=\"-291.8\" font-family=\"Times,serif\" font-size=\"14.00\" fill=\"#000000\">value = 10.491</text>\n</g>\n<!-- 5&#45;&gt;7 -->\n<g id=\"edge7\" class=\"edge\">\n<title>5&#45;&gt;7</title>\n<path fill=\"none\" stroke=\"#000000\" d=\"M673.2163,-329.3318C704.8155,-325.7351 740.6753,-321.6535 770.9126,-318.2118\"/>\n<polygon fill=\"#000000\" stroke=\"#000000\" points=\"771.3972,-321.6794 780.9372,-317.0708 770.6055,-314.7243 771.3972,-321.6794\"/>\n</g>\n<!-- 9 -->\n<g id=\"node10\" class=\"node\">\n<title>9</title>\n<polygon fill=\"#e58139\" fill-opacity=\"0.043137\" stroke=\"#000000\" points=\"680.6667,-245.5 504.6667,-245.5 504.6667,-177.5 680.6667,-177.5 680.6667,-245.5\"/>\n<text text-anchor=\"start\" x=\"512.6667\" y=\"-230.3\" font-family=\"Times,serif\" font-size=\"14.00\" fill=\"#000000\">saleElapsed ≤ 959644800.0</text>\n<text text-anchor=\"start\" x=\"556.1667\" y=\"-215.3\" font-family=\"Times,serif\" font-size=\"14.00\" fill=\"#000000\">mse = 0.088</text>\n<text text-anchor=\"start\" x=\"550.6667\" y=\"-200.3\" font-family=\"Times,serif\" font-size=\"14.00\" fill=\"#000000\">samples = 842</text>\n<text text-anchor=\"start\" x=\"552.1667\" y=\"-185.3\" font-family=\"Times,serif\" font-size=\"14.00\" fill=\"#000000\">value = 9.006</text>\n</g>\n<!-- 8&#45;&gt;9 -->\n<g id=\"edge9\" class=\"edge\">\n<title>8&#45;&gt;9</title>\n<path fill=\"none\" stroke=\"#000000\" d=\"M401.1836,-211.5C429.4983,-211.5 463.2335,-211.5 494.4422,-211.5\"/>\n<polygon fill=\"#000000\" stroke=\"#000000\" points=\"494.4761,-215.0001 504.4761,-211.5 494.4761,-208.0001 494.4761,-215.0001\"/>\n</g>\n<!-- 12 -->\n<g id=\"node13\" class=\"node\">\n<title>12</title>\n<polygon fill=\"#e58139\" fill-opacity=\"0.258824\" stroke=\"#000000\" points=\"677.1667,-131.5 508.1667,-131.5 508.1667,-63.5 677.1667,-63.5 677.1667,-131.5\"/>\n<text text-anchor=\"start\" x=\"516.1667\" y=\"-116.3\" font-family=\"Times,serif\" font-size=\"14.00\" fill=\"#000000\">fiProductClassDesc ≤ 40.5</text>\n<text text-anchor=\"start\" x=\"556.1667\" y=\"-101.3\" font-family=\"Times,serif\" font-size=\"14.00\" fill=\"#000000\">mse = 0.089</text>\n<text text-anchor=\"start\" x=\"550.6667\" y=\"-86.3\" font-family=\"Times,serif\" font-size=\"14.00\" fill=\"#000000\">samples = 831</text>\n<text text-anchor=\"start\" x=\"552.1667\" y=\"-71.3\" font-family=\"Times,serif\" font-size=\"14.00\" fill=\"#000000\">value = 9.339</text>\n</g>\n<!-- 8&#45;&gt;12 -->\n<g id=\"edge12\" class=\"edge\">\n<title>8&#45;&gt;12</title>\n<path fill=\"none\" stroke=\"#000000\" d=\"M401.1836,-182.438C433.1285,-168.2679 471.9728,-151.0374 506.3046,-135.8085\"/>\n<polygon fill=\"#000000\" stroke=\"#000000\" points=\"508.1369,-138.8247 515.8587,-131.5704 505.2985,-132.4259 508.1369,-138.8247\"/>\n</g>\n<!-- 10 -->\n<g id=\"node11\" class=\"node\">\n<title>10</title>\n<polygon fill=\"#e58139\" fill-opacity=\"0.105882\" stroke=\"#000000\" points=\"888.6667,-266 788.6667,-266 788.6667,-213 888.6667,-213 888.6667,-266\"/>\n<text text-anchor=\"start\" x=\"802.1667\" y=\"-250.8\" font-family=\"Times,serif\" font-size=\"14.00\" fill=\"#000000\">mse = 0.094</text>\n<text text-anchor=\"start\" x=\"796.6667\" y=\"-235.8\" font-family=\"Times,serif\" font-size=\"14.00\" fill=\"#000000\">samples = 354</text>\n<text text-anchor=\"start\" x=\"798.1667\" y=\"-220.8\" font-family=\"Times,serif\" font-size=\"14.00\" fill=\"#000000\">value = 9.102</text>\n</g>\n<!-- 9&#45;&gt;10 -->\n<g id=\"edge10\" class=\"edge\">\n<title>9&#45;&gt;10</title>\n<path fill=\"none\" stroke=\"#000000\" d=\"M680.7835,-221.5296C713.0946,-225.2072 748.9068,-229.2834 778.2446,-232.6227\"/>\n<polygon fill=\"#000000\" stroke=\"#000000\" points=\"778.0037,-236.1178 788.3354,-233.7712 778.7954,-229.1627 778.0037,-236.1178\"/>\n</g>\n<!-- 11 -->\n<g id=\"node12\" class=\"node\">\n<title>11</title>\n<polygon fill=\"transparent\" stroke=\"#000000\" points=\"888.6667,-195 788.6667,-195 788.6667,-142 888.6667,-142 888.6667,-195\"/>\n<text text-anchor=\"start\" x=\"802.1667\" y=\"-179.8\" font-family=\"Times,serif\" font-size=\"14.00\" fill=\"#000000\">mse = 0.071</text>\n<text text-anchor=\"start\" x=\"796.6667\" y=\"-164.8\" font-family=\"Times,serif\" font-size=\"14.00\" fill=\"#000000\">samples = 488</text>\n<text text-anchor=\"start\" x=\"798.1667\" y=\"-149.8\" font-family=\"Times,serif\" font-size=\"14.00\" fill=\"#000000\">value = 8.936</text>\n</g>\n<!-- 9&#45;&gt;11 -->\n<g id=\"edge11\" class=\"edge\">\n<title>9&#45;&gt;11</title>\n<path fill=\"none\" stroke=\"#000000\" d=\"M680.7835,-196.0975C713.0946,-190.4496 748.9068,-184.1897 778.2446,-179.0616\"/>\n<polygon fill=\"#000000\" stroke=\"#000000\" points=\"779.0875,-182.4674 788.3354,-177.2977 777.8821,-175.572 779.0875,-182.4674\"/>\n</g>\n<!-- 13 -->\n<g id=\"node14\" class=\"node\">\n<title>13</title>\n<polygon fill=\"#e58139\" fill-opacity=\"0.200000\" stroke=\"#000000\" points=\"888.6667,-124 788.6667,-124 788.6667,-71 888.6667,-71 888.6667,-124\"/>\n<text text-anchor=\"start\" x=\"802.1667\" y=\"-108.8\" font-family=\"Times,serif\" font-size=\"14.00\" fill=\"#000000\">mse = 0.081</text>\n<text text-anchor=\"start\" x=\"796.6667\" y=\"-93.8\" font-family=\"Times,serif\" font-size=\"14.00\" fill=\"#000000\">samples = 494</text>\n<text text-anchor=\"start\" x=\"798.1667\" y=\"-78.8\" font-family=\"Times,serif\" font-size=\"14.00\" fill=\"#000000\">value = 9.246</text>\n</g>\n<!-- 12&#45;&gt;13 -->\n<g id=\"edge13\" class=\"edge\">\n<title>12&#45;&gt;13</title>\n<path fill=\"none\" stroke=\"#000000\" d=\"M677.3259,-97.5C710.5405,-97.5 747.8997,-97.5 778.2978,-97.5\"/>\n<polygon fill=\"#000000\" stroke=\"#000000\" points=\"778.3238,-101.0001 788.3238,-97.5 778.3238,-94.0001 778.3238,-101.0001\"/>\n</g>\n<!-- 14 -->\n<g id=\"node15\" class=\"node\">\n<title>14</title>\n<polygon fill=\"#e58139\" fill-opacity=\"0.345098\" stroke=\"#000000\" points=\"888.6667,-53 788.6667,-53 788.6667,0 888.6667,0 888.6667,-53\"/>\n<text text-anchor=\"start\" x=\"806.1667\" y=\"-37.8\" font-family=\"Times,serif\" font-size=\"14.00\" fill=\"#000000\">mse = 0.07</text>\n<text text-anchor=\"start\" x=\"796.6667\" y=\"-22.8\" font-family=\"Times,serif\" font-size=\"14.00\" fill=\"#000000\">samples = 337</text>\n<text text-anchor=\"start\" x=\"798.1667\" y=\"-7.8\" font-family=\"Times,serif\" font-size=\"14.00\" fill=\"#000000\">value = 9.474</text>\n</g>\n<!-- 12&#45;&gt;14 -->\n<g id=\"edge14\" class=\"edge\">\n<title>12&#45;&gt;14</title>\n<path fill=\"none\" stroke=\"#000000\" d=\"M677.3259,-73.0658C710.685,-63.4378 748.2246,-52.6032 778.6939,-43.8092\"/>\n<polygon fill=\"#000000\" stroke=\"#000000\" points=\"779.6865,-47.1657 788.3238,-41.0299 777.7454,-40.4402 779.6865,-47.1657\"/>\n</g>\n</g>\n</svg>\n"
          },
          "metadata": {
            "tags": []
          }
        }
      ]
    },
    {
      "cell_type": "markdown",
      "metadata": {
        "id": "27yphxV_4i1r",
        "colab_type": "text"
      },
      "source": [
        "## 결정 나무 개수를 늘려가면서 성능 평가 해보기"
      ]
    },
    {
      "cell_type": "markdown",
      "metadata": {
        "id": "aHCgUk3J4oc-",
        "colab_type": "text"
      },
      "source": [
        "### 결정나무 1~10개마다 R2 점수 비교"
      ]
    },
    {
      "cell_type": "code",
      "metadata": {
        "id": "Gxa8WnZJO14h",
        "colab_type": "code",
        "outputId": "2c3e6994-10fa-491c-f21b-4dbaf0a7334f",
        "colab": {
          "base_uri": "https://localhost:8080/",
          "height": 298
        }
      },
      "source": [
        "model = RandomForestRegressor(n_estimators=10, n_jobs=-1)\n",
        "model.fit(X_train, y_train)\n",
        "print_score(model)\n",
        "\n",
        "predictions = np.stack([tree.predict(X_valid) for tree in model.estimators_])\n",
        "\n",
        "r2_scores = []\n",
        "for i in range(10):\n",
        "    mean = np.mean(predictions[:i+1], axis=0)\n",
        "    r2_scores.append(metrics.r2_score(y_valid, mean))\n",
        "plt.plot(r2_scores)\n"
      ],
      "execution_count": 0,
      "outputs": [
        {
          "output_type": "stream",
          "text": [
            "[0.11091636480144376, 0.3530297199352525, 0.9726632912391437, 0.7774280092285933]\n"
          ],
          "name": "stdout"
        },
        {
          "output_type": "execute_result",
          "data": {
            "text/plain": [
              "[<matplotlib.lines.Line2D at 0x7f3354ef8e10>]"
            ]
          },
          "metadata": {
            "tags": []
          },
          "execution_count": 38
        },
        {
          "output_type": "display_data",
          "data": {
            "image/png": "[encoded data removed]",
            "text/plain": [
              "<Figure size 432x288 with 1 Axes>"
            ]
          },
          "metadata": {
            "tags": []
          }
        }
      ]
    },
    {
      "cell_type": "markdown",
      "metadata": {
        "id": "Ka3h_uU84sqK",
        "colab_type": "text"
      },
      "source": [
        "### OOB 점수도 추가"
      ]
    },
    {
      "cell_type": "code",
      "metadata": {
        "id": "YRpvPL2wPDXb",
        "colab_type": "code",
        "colab": {}
      },
      "source": [
        "def print_score(model, X_train, y_train, X_valid, y_valid):\n",
        "   res = [rmse(model.predict(X_train), y_train), \n",
        "         rmse(model.predict(X_valid), y_valid),\n",
        "         model.score(X_train, y_train),\n",
        "         model.score(X_valid, y_valid)]\n",
        "   if hasattr(model, 'oob_score_'): res.append(model.oob_score_)\n",
        "   print(res)"
      ],
      "execution_count": 0,
      "outputs": []
    },
    {
      "cell_type": "markdown",
      "metadata": {
        "id": "9zr5qeq34xKt",
        "colab_type": "text"
      },
      "source": [
        "### 40개의 결정나무로 구성된 랜덤포레스트 모델"
      ]
    },
    {
      "cell_type": "code",
      "metadata": {
        "id": "RoLqOQ75PPz5",
        "colab_type": "code",
        "outputId": "53a3a9d0-00f4-49a5-b193-c0ac179508c2",
        "colab": {
          "base_uri": "https://localhost:8080/",
          "height": 34
        }
      },
      "source": [
        "model = RandomForestRegressor(n_estimators=40, oob_score=True, n_jobs=-1)\n",
        "model.fit(X_train, y_train)\n",
        "print_score(model)"
      ],
      "execution_count": 0,
      "outputs": [
        {
          "output_type": "stream",
          "text": [
            "[0.09711440759291283, 0.33280789796631527, 0.9790433287060119, 0.8021959305190379, 0.8506005583264215]\n"
          ],
          "name": "stdout"
        }
      ]
    },
    {
      "cell_type": "markdown",
      "metadata": {
        "id": "dA5KosNR45he",
        "colab_type": "text"
      },
      "source": [
        "# set_rf_ssamples"
      ]
    },
    {
      "cell_type": "markdown",
      "metadata": {
        "id": "uiQvQwNi48cy",
        "colab_type": "text"
      },
      "source": [
        "## 설정 초기화"
      ]
    },
    {
      "cell_type": "code",
      "metadata": {
        "id": "5Gj9mpMF1Sm1",
        "colab_type": "code",
        "colab": {}
      },
      "source": [
        "X, y, nas = proc_df(df, 'SalePrice')\n",
        "y = np.log(y)"
      ],
      "execution_count": 0,
      "outputs": []
    },
    {
      "cell_type": "code",
      "metadata": {
        "id": "8i06VtwZjXQQ",
        "colab_type": "code",
        "outputId": "b399fe03-2473-4244-f88f-599ce0734292",
        "colab": {
          "base_uri": "https://localhost:8080/",
          "height": 34
        }
      },
      "source": [
        "num_valid            = 12000  \n",
        "num_train            = len(X) - num_valid\n",
        "X_train, X_valid     = split_valid_set(X, num_train)\n",
        "y_train, y_valid     = split_valid_set(y, num_train)\n",
        "\n",
        "print(X_train.shape, y_train.shape, X_valid.shape, y_valid.shape)"
      ],
      "execution_count": 0,
      "outputs": [
        {
          "output_type": "stream",
          "text": [
            "(389125, 66) (389125,) (12000, 66) (12000,)\n"
          ],
          "name": "stdout"
        }
      ]
    },
    {
      "cell_type": "markdown",
      "metadata": {
        "id": "GUg4CONJ5Amz",
        "colab_type": "text"
      },
      "source": [
        "## set_rf_samples"
      ]
    },
    {
      "cell_type": "code",
      "metadata": {
        "id": "4lab1sJXPSio",
        "colab_type": "code",
        "outputId": "fc273a9a-4b8a-47fc-cd3f-12809bce5e35",
        "colab": {
          "base_uri": "https://localhost:8080/",
          "height": 34
        }
      },
      "source": [
        "set_rf_samples(20000)\n",
        "\n",
        "model = RandomForestRegressor(n_estimators=10, n_jobs=-1, oob_score=True)\n",
        "model.fit(X_train, y_train)\n",
        "print_score(model)"
      ],
      "execution_count": 0,
      "outputs": [
        {
          "output_type": "stream",
          "text": [
            "[0.24061041639386702, 0.2781793063050742, 0.8790060443143941, 0.8618033187974511, 0.8664181215817088]\n"
          ],
          "name": "stdout"
        }
      ]
    },
    {
      "cell_type": "markdown",
      "metadata": {
        "id": "5S1PGXzA5EUf",
        "colab_type": "text"
      },
      "source": [
        "## reset_rf_samples로 rf_samples 기능 무효화"
      ]
    },
    {
      "cell_type": "code",
      "metadata": {
        "id": "HDWm4S_6PlXy",
        "colab_type": "code",
        "colab": {}
      },
      "source": [
        "reset_rf_samples()"
      ],
      "execution_count": 0,
      "outputs": []
    },
    {
      "cell_type": "markdown",
      "metadata": {
        "id": "buZhAhiq5LBL",
        "colab_type": "text"
      },
      "source": [
        "# min_samples_leaf 개수에 따른 성능 평가"
      ]
    },
    {
      "cell_type": "code",
      "metadata": {
        "id": "ngtvO288QLzh",
        "colab_type": "code",
        "outputId": "44629db5-d15e-4bf5-b3c8-9169a9d31d0d",
        "colab": {
          "base_uri": "https://localhost:8080/",
          "height": 34
        }
      },
      "source": [
        "model = RandomForestRegressor(n_estimators=40, min_samples_leaf=3,\n",
        "                               n_jobs=-1, oob_score=True)\n",
        "model.fit(X_train, y_train)\n",
        "print_score(model)\n"
      ],
      "execution_count": 0,
      "outputs": [
        {
          "output_type": "stream",
          "text": [
            "[0.11524925510240323, 0.23556419056350789, 0.9722405357420335, 0.9009016286250457, 0.9084082713153743]\n"
          ],
          "name": "stdout"
        }
      ]
    },
    {
      "cell_type": "code",
      "metadata": {
        "id": "_ZsgXRG-QOcQ",
        "colab_type": "code",
        "outputId": "1521ce24-efde-4e79-c9d6-0cff0c3690ed",
        "colab": {
          "base_uri": "https://localhost:8080/",
          "height": 34
        }
      },
      "source": [
        "model = RandomForestRegressor(n_estimators=40, min_samples_leaf=5,\n",
        "                               n_jobs=-1, oob_score=True)\n",
        "model.fit(X_train, y_train)\n",
        "print_score(model)\n"
      ],
      "execution_count": 0,
      "outputs": [
        {
          "output_type": "stream",
          "text": [
            "[0.14067562310219447, 0.23480331977703076, 0.9586407627341333, 0.9015407689216199, 0.9069429717521003]\n"
          ],
          "name": "stdout"
        }
      ]
    },
    {
      "cell_type": "markdown",
      "metadata": {
        "id": "ofmwrdCz5Pwm",
        "colab_type": "text"
      },
      "source": [
        "# max_features 값에 따른 성능 평가"
      ]
    },
    {
      "cell_type": "code",
      "metadata": {
        "id": "KckbtbdMRE2g",
        "colab_type": "code",
        "outputId": "4a0063ed-f7e1-4b17-e066-dbc691b9f685",
        "colab": {
          "base_uri": "https://localhost:8080/",
          "height": 34
        }
      },
      "source": [
        "model = RandomForestRegressor(n_estimators=40, min_samples_leaf=5,\n",
        "                               max_features=0.5, n_jobs=-1, oob_score=True)\n",
        "model.fit(X_train, y_train)\n",
        "print_score(model)"
      ],
      "execution_count": 0,
      "outputs": [
        {
          "output_type": "stream",
          "text": [
            "[0.1444677346354844, 0.22858092615829567, 0.9563809149486255, 0.9066900514250277, 0.9103562178010168]\n"
          ],
          "name": "stdout"
        }
      ]
    },
    {
      "cell_type": "markdown",
      "metadata": {
        "id": "lZkLiKus5V2F",
        "colab_type": "text"
      },
      "source": [
        "## set_rf_samples도 적용 해보기"
      ]
    },
    {
      "cell_type": "code",
      "metadata": {
        "id": "W_8MiBBSeHqa",
        "colab_type": "code",
        "outputId": "12b3ac8f-0bd5-40a9-90a1-62be4870defa",
        "colab": {
          "base_uri": "https://localhost:8080/",
          "height": 34
        }
      },
      "source": [
        "set_rf_samples(50000)\n",
        "model = RandomForestRegressor(n_estimators=40, min_samples_leaf=5,\n",
        "                               max_features=0.5, n_jobs=-1, oob_score=True)\n",
        "model.fit(X_train, y_train)\n",
        "print_score(model, X_train, y_train, X_valid, y_valid)"
      ],
      "execution_count": 0,
      "outputs": [
        {
          "output_type": "stream",
          "text": [
            "[0.2153300483292211, 0.2511616683551171, 0.9030954650183728, 0.8873439052010169, 0.8902213010610384]\n"
          ],
          "name": "stdout"
        }
      ]
    },
    {
      "cell_type": "markdown",
      "metadata": {
        "id": "sAoTWff-5bc7",
        "colab_type": "text"
      },
      "source": [
        "# 학습된 결과의 해석"
      ]
    },
    {
      "cell_type": "code",
      "metadata": {
        "id": "RucAPDHpemjw",
        "colab_type": "code",
        "colab": {}
      },
      "source": [
        "def get_predictions(tree): \n",
        "    return tree.predict(X_valid)"
      ],
      "execution_count": 0,
      "outputs": []
    },
    {
      "cell_type": "code",
      "metadata": {
        "id": "m_o2oTyzer0Y",
        "colab_type": "code",
        "colab": {}
      },
      "source": [
        "predictions = np.stack(parallel_trees(model, get_predictions))"
      ],
      "execution_count": 0,
      "outputs": []
    },
    {
      "cell_type": "code",
      "metadata": {
        "id": "sxh1FgvHexuT",
        "colab_type": "code",
        "outputId": "7d788ce0-9069-4331-8e5d-9ad591683ca3",
        "colab": {
          "base_uri": "https://localhost:8080/",
          "height": 34
        }
      },
      "source": [
        "predictions"
      ],
      "execution_count": 0,
      "outputs": [
        {
          "output_type": "execute_result",
          "data": {
            "text/plain": [
              "array([[10.49117, 10.49117,  9.89433, ..., 10.49117, 10.49117, 10.49117]])"
            ]
          },
          "metadata": {
            "tags": []
          },
          "execution_count": 190
        }
      ]
    },
    {
      "cell_type": "code",
      "metadata": {
        "id": "yC9UrcJiezUb",
        "colab_type": "code",
        "outputId": "62f4bb6a-4dea-42d9-ab10-56ed22441bbc",
        "colab": {
          "base_uri": "https://localhost:8080/",
          "height": 34
        }
      },
      "source": [
        "predictions.shape"
      ],
      "execution_count": 0,
      "outputs": [
        {
          "output_type": "execute_result",
          "data": {
            "text/plain": [
              "(40, 12000)"
            ]
          },
          "metadata": {
            "tags": []
          },
          "execution_count": 157
        }
      ]
    },
    {
      "cell_type": "code",
      "metadata": {
        "id": "SNHVSm1VfGt_",
        "colab_type": "code",
        "colab": {}
      },
      "source": [
        "_, tmp_valid = split_valid_set(df, num_train)\n",
        "x = tmp_valid.copy()\n",
        "x['SalePrice'] = np.log(x['SalePrice'])\n",
        "x['PredictionStd'] = np.std(predictions, axis=0)\n",
        "x['PredictionMean'] = np.mean(predictions, axis=0)"
      ],
      "execution_count": 0,
      "outputs": []
    },
    {
      "cell_type": "code",
      "metadata": {
        "id": "q9AViVg8fjiW",
        "colab_type": "code",
        "outputId": "96582833-ac7d-4cf5-fec8-1738af23c96f",
        "colab": {
          "base_uri": "https://localhost:8080/",
          "height": 319
        }
      },
      "source": [
        "x.columns"
      ],
      "execution_count": 0,
      "outputs": [
        {
          "output_type": "execute_result",
          "data": {
            "text/plain": [
              "Index(['SalesID', 'SalePrice', 'MachineID', 'ModelID', 'datasource',\n",
              "       'auctioneerID', 'YearMade', 'MachineHoursCurrentMeter', 'UsageBand',\n",
              "       'fiModelDesc', 'fiBaseModel', 'fiSecondaryDesc', 'fiModelSeries',\n",
              "       'fiModelDescriptor', 'ProductSize', 'fiProductClassDesc', 'state',\n",
              "       'ProductGroup', 'ProductGroupDesc', 'Drive_System', 'Enclosure',\n",
              "       'Forks', 'Pad_Type', 'Ride_Control', 'Stick', 'Transmission',\n",
              "       'Turbocharged', 'Blade_Extension', 'Blade_Width', 'Enclosure_Type',\n",
              "       'Engine_Horsepower', 'Hydraulics', 'Pushblock', 'Ripper', 'Scarifier',\n",
              "       'Tip_Control', 'Tire_Size', 'Coupler', 'Coupler_System',\n",
              "       'Grouser_Tracks', 'Hydraulics_Flow', 'Track_Type',\n",
              "       'Undercarriage_Pad_Width', 'Stick_Length', 'Thumb', 'Pattern_Changer',\n",
              "       'Grouser_Type', 'Backhoe_Mounting', 'Blade_Type', 'Travel_Controls',\n",
              "       'Differential_Type', 'Steering_Controls', 'saleYear', 'saleMonth',\n",
              "       'saleWeek', 'saleDay', 'saleDayofweek', 'saleDayofyear',\n",
              "       'saleIs_month_end', 'saleIs_month_start', 'saleIs_quarter_end',\n",
              "       'saleIs_quarter_start', 'saleIs_year_end', 'saleIs_year_start',\n",
              "       'saleElapsed', 'PredictionStd', 'PredictionMean'],\n",
              "      dtype='object')"
            ]
          },
          "metadata": {
            "tags": []
          },
          "execution_count": 159
        }
      ]
    },
    {
      "cell_type": "code",
      "metadata": {
        "id": "1sFjI-knfZ-Z",
        "colab_type": "code",
        "outputId": "c6572cd6-7aed-49f3-8d13-474975f3afe2",
        "colab": {
          "base_uri": "https://localhost:8080/",
          "height": 134
        }
      },
      "source": [
        "fields = ['Enclosure', 'SalePrice', 'PredictionMean', 'PredictionStd']\n",
        "enc_summary = x[fields].groupby('Enclosure', as_index=False).mean()\n",
        "print(enc_summary)"
      ],
      "execution_count": 0,
      "outputs": [
        {
          "output_type": "stream",
          "text": [
            "             Enclosure  SalePrice  PredictionMean  PredictionStd\n",
            "0                EROPS   9.849178        9.836926       0.243940\n",
            "1             EROPS AC        NaN             NaN            NaN\n",
            "2           EROPS w AC  10.623971       10.575709       0.240357\n",
            "3              NO ROPS        NaN             NaN            NaN\n",
            "4  None or Unspecified        NaN             NaN            NaN\n",
            "5                OROPS   9.682064        9.687330       0.196196\n"
          ],
          "name": "stdout"
        }
      ]
    },
    {
      "cell_type": "code",
      "metadata": {
        "id": "ol-CK3Fkffg8",
        "colab_type": "code",
        "outputId": "d506b4e5-5692-4416-e4a7-0e93f9c70e4e",
        "colab": {
          "base_uri": "https://localhost:8080/",
          "height": 530
        }
      },
      "source": [
        "enc_summary = enc_summary[~pd.isnull(enc_summary.SalePrice)]\n",
        "enc_summary.plot('Enclosure', 'SalePrice', 'barh', xlim=(0,11))\n",
        "enc_summary.plot('Enclosure', 'PredictionMean', 'barh', xerr='PredictionStd', alpha=0.6, xlim=(0,11))"
      ],
      "execution_count": 0,
      "outputs": [
        {
          "output_type": "execute_result",
          "data": {
            "text/plain": [
              "<matplotlib.axes._subplots.AxesSubplot at 0x7f3351722cf8>"
            ]
          },
          "metadata": {
            "tags": []
          },
          "execution_count": 161
        },
        {
          "output_type": "display_data",
          "data": {
            "image/png": "[encoded data removed]",
            "text/plain": [
              "<Figure size 432x288 with 1 Axes>"
            ]
          },
          "metadata": {
            "tags": []
          }
        },
        {
          "output_type": "display_data",
          "data": {
            "image/png": "[encoded data removed]",
            "text/plain": [
              "<Figure size 432x288 with 1 Axes>"
            ]
          },
          "metadata": {
            "tags": []
          }
        }
      ]
    },
    {
      "cell_type": "code",
      "metadata": {
        "id": "OtPaIclBhwm1",
        "colab_type": "code",
        "outputId": "74cd718f-93c2-4c26-c670-3adc93741709",
        "colab": {
          "base_uri": "https://localhost:8080/",
          "height": 447
        }
      },
      "source": [
        "feature_importance = rf_feat_importance(model, X_train)\n",
        "feature_importance.plot('cols', 'imp', 'barh', figsize=(12,7), legend=False)"
      ],
      "execution_count": 0,
      "outputs": [
        {
          "output_type": "execute_result",
          "data": {
            "text/plain": [
              "<matplotlib.axes._subplots.AxesSubplot at 0x7fc304608cc0>"
            ]
          },
          "metadata": {
            "tags": []
          },
          "execution_count": 25
        },
        {
          "output_type": "display_data",
          "data": {
            "image/png": "[encoded data removed]",
            "text/plain": [
              "<Figure size 864x504 with 1 Axes>"
            ]
          },
          "metadata": {
            "tags": []
          }
        }
      ]
    },
    {
      "cell_type": "code",
      "metadata": {
        "id": "IdhAIUuRizCk",
        "colab_type": "code",
        "outputId": "7a777f88-73f4-46d6-acda-889d3826f33e",
        "colab": {
          "base_uri": "https://localhost:8080/",
          "height": 34
        }
      },
      "source": [
        "(X_train.shape, y_train.shape)"
      ],
      "execution_count": 0,
      "outputs": [
        {
          "output_type": "execute_result",
          "data": {
            "text/plain": [
              "((389125, 66), (389125,))"
            ]
          },
          "metadata": {
            "tags": []
          },
          "execution_count": 191
        }
      ]
    },
    {
      "cell_type": "code",
      "metadata": {
        "id": "0qJiZPTuzFiL",
        "colab_type": "code",
        "outputId": "3f04942e-57bb-4a04-9827-0b09dab30d2b",
        "colab": {
          "base_uri": "https://localhost:8080/",
          "height": 34
        }
      },
      "source": [
        "(X_valid.shape, y_valid.shape)"
      ],
      "execution_count": 0,
      "outputs": [
        {
          "output_type": "execute_result",
          "data": {
            "text/plain": [
              "((12000, 66), (12000,))"
            ]
          },
          "metadata": {
            "tags": []
          },
          "execution_count": 192
        }
      ]
    },
    {
      "cell_type": "code",
      "metadata": {
        "id": "i3QWE-GhiPUh",
        "colab_type": "code",
        "outputId": "16c7313f-4c80-4435-b9e3-d922562a1600",
        "colab": {
          "base_uri": "https://localhost:8080/",
          "height": 233
        }
      },
      "source": [
        "threshold = 0.005\n",
        "to_keep = feature_importance.imp > threshold\n",
        "X_keep = X[feature_importance[to_keep].cols].copy()\n",
        "\n",
        "print(str(X.shape) + \", \" + str(X_keep.shape))\n",
        "\n",
        "num_valid            = 12000  \n",
        "num_train            = len(X_keep) - num_valid\n",
        "X_train, X_valid = split_valid_set(X_keep, num_train)\n",
        "y_train, y_valid = split_valid_set(y, num_train)\n",
        "\n",
        "model = RandomForestRegressor(n_estimators=40, min_samples_leaf=3,\n",
        "                               max_features=0.5, n_jobs=-1, oob_score=True)\n",
        "model.fit(X_train, y_train)\n",
        "print_score(model)"
      ],
      "execution_count": 0,
      "outputs": [
        {
          "output_type": "stream",
          "text": [
            "(401125, 66), (401125, 22)\n"
          ],
          "name": "stdout"
        },
        {
          "output_type": "error",
          "ename": "TypeError",
          "evalue": "ignored",
          "traceback": [
            "\u001b[0;31m---------------------------------------------------------------------------\u001b[0m",
            "\u001b[0;31mTypeError\u001b[0m                                 Traceback (most recent call last)",
            "\u001b[0;32m<ipython-input-26-7f46f92503a3>\u001b[0m in \u001b[0;36m<module>\u001b[0;34m()\u001b[0m\n\u001b[1;32m     13\u001b[0m                                max_features=0.5, n_jobs=-1, oob_score=True)\n\u001b[1;32m     14\u001b[0m \u001b[0mmodel\u001b[0m\u001b[0;34m.\u001b[0m\u001b[0mfit\u001b[0m\u001b[0;34m(\u001b[0m\u001b[0mX_train\u001b[0m\u001b[0;34m,\u001b[0m \u001b[0my_train\u001b[0m\u001b[0;34m)\u001b[0m\u001b[0;34m\u001b[0m\u001b[0;34m\u001b[0m\u001b[0m\n\u001b[0;32m---> 15\u001b[0;31m \u001b[0mprint_score\u001b[0m\u001b[0;34m(\u001b[0m\u001b[0mmodel\u001b[0m\u001b[0;34m)\u001b[0m\u001b[0;34m\u001b[0m\u001b[0;34m\u001b[0m\u001b[0m\n\u001b[0m",
            "\u001b[0;31mTypeError\u001b[0m: print_score() missing 4 required positional arguments: 'X_train', 'y_train', 'X_valid', and 'y_valid'"
          ]
        }
      ]
    },
    {
      "cell_type": "code",
      "metadata": {
        "id": "7oW9oybDtW9i",
        "colab_type": "code",
        "outputId": "f806fcf3-3e04-4ee6-d730-b6751c637bc4",
        "colab": {
          "base_uri": "https://localhost:8080/",
          "height": 34
        }
      },
      "source": [
        "X2, y2, _ = proc_df(df, 'SalePrice', max_n_cat=7)\n",
        "y2 = np.log(y2)\n",
        "\n",
        "num_valid = 12000\n",
        "num_train = len(X2) - num_valid\n",
        "X_train2, X_valid2 = split_valid_set(X2, num_train)\n",
        "y_train2, y_valid2 = split_valid_set(y2, num_train)\n",
        " \n",
        "model = RandomForestRegressor(n_estimators=40, min_samples_leaf=3, \n",
        "                           max_features=0.5, n_jobs=-1, oob_score=True)\n",
        "model.fit(X_train2, y_train2)\n",
        "print_score(model, X_train2, y_train2, X_valid2, y_valid2)"
      ],
      "execution_count": 0,
      "outputs": [
        {
          "output_type": "stream",
          "text": [
            "[0.20831126741940673, 0.254260887615141, 0.909309802295604, 0.884546503104868, 0.8918445830014952]\n"
          ],
          "name": "stdout"
        }
      ]
    },
    {
      "cell_type": "code",
      "metadata": {
        "id": "iiiQILSB2N4t",
        "colab_type": "code",
        "outputId": "75ffd85f-9d3b-48f1-8d90-515956b5edca",
        "colab": {
          "base_uri": "https://localhost:8080/",
          "height": 445
        }
      },
      "source": [
        "fi = rf_feat_importance(model, X2)\n",
        "fi = fi[:20]\n",
        "fi.plot('cols', 'imp', 'barh', figsize=(12,7), legend=False)"
      ],
      "execution_count": 0,
      "outputs": [
        {
          "output_type": "execute_result",
          "data": {
            "text/plain": [
              "<matplotlib.axes._subplots.AxesSubplot at 0x7f3353674c88>"
            ]
          },
          "metadata": {
            "tags": []
          },
          "execution_count": 202
        },
        {
          "output_type": "display_data",
          "data": {
            "image/png": "[encoded data removed]",
            "text/plain": [
              "<Figure size 864x504 with 1 Axes>"
            ]
          },
          "metadata": {
            "tags": []
          }
        }
      ]
    },
    {
      "cell_type": "code",
      "metadata": {
        "id": "XWgXQBJN3Nrn",
        "colab_type": "code",
        "outputId": "43008921-e0cf-455c-d2af-d66bea6ed4e9",
        "colab": {
          "base_uri": "https://localhost:8080/",
          "height": 612
        }
      },
      "source": [
        "from scipy.cluster import hierarchy\n",
        "from scipy.stats import spearmanr\n",
        "\n",
        "corr = np.round(spearmanr(X_keep).correlation, 4)\n",
        "corr_condensed = hierarchy.distance.squareform(1-corr)\n",
        "linkage = hierarchy.linkage(corr_condensed, method='average')\n",
        "\n",
        "fig = plt.figure(figsize=(16,10))\n",
        "dendrogram = hierarchy.dendrogram(linkage, labels=X_keep.columns, \n",
        "                                  orientation='left', leaf_font_size=16)\n",
        "plt.show()"
      ],
      "execution_count": 0,
      "outputs": [
        {
          "output_type": "display_data",
          "data": {
            "image/png": "[encoded data removed]",
            "text/plain": [
              "<Figure size 1152x720 with 1 Axes>"
            ]
          },
          "metadata": {
            "tags": []
          }
        }
      ]
    },
    {
      "cell_type": "code",
      "metadata": {
        "id": "QjfG31KK4Rn8",
        "colab_type": "code",
        "outputId": "c0efbbf0-015a-40ce-eb98-89684c6ccb21",
        "colab": {
          "base_uri": "https://localhost:8080/",
          "height": 34
        }
      },
      "source": [
        "to_drop = ['saleYear', 'fiBaseModel', 'Grouser_Tracks']\n",
        "X_keep.drop(to_drop, axis=1, inplace=True)\n",
        "\n",
        "model = RandomForestRegressor(n_estimators=30, min_samples_leaf=5, \n",
        "                               max_features=0.5, n_jobs=-1, oob_score=True)\n",
        "\n",
        "X_train, X_valid = split_valid_set(X_keep, num_train)\n",
        "\n",
        "model.fit(X_train, y_train)\n",
        "print(model.oob_score_) "
      ],
      "execution_count": 0,
      "outputs": [
        {
          "output_type": "stream",
          "text": [
            "0.8882825952040463\n"
          ],
          "name": "stdout"
        }
      ]
    },
    {
      "cell_type": "code",
      "metadata": {
        "id": "K-PHyp1uVk8Y",
        "colab_type": "code",
        "outputId": "63bcbb0a-6bd4-442e-d7d7-1318859c78b1",
        "colab": {
          "base_uri": "https://localhost:8080/",
          "height": 34
        }
      },
      "source": [
        "set_rf_samples(50000)\n",
        "model = RandomForestRegressor(n_estimators=160, max_features=0.5, \n",
        "                              n_jobs=-1, oob_score=True)\n",
        "\n",
        "model.fit(X_train, y_train)\n",
        "print_score(model, X_train, y_train, X_valid, y_valid) "
      ],
      "execution_count": 0,
      "outputs": [
        {
          "output_type": "stream",
          "text": [
            "[0.1924492558107164, 0.2409622584347453, 0.9225953059873923, 0.8963078154884113, 0.8999380747311208]\n"
          ],
          "name": "stdout"
        }
      ]
    },
    {
      "cell_type": "code",
      "metadata": {
        "id": "ccu3ovPt42EY",
        "colab_type": "code",
        "outputId": "d68a756c-a1eb-4a2b-c5b4-bc1ba7ebe4df",
        "colab": {
          "base_uri": "https://localhost:8080/",
          "height": 34
        }
      },
      "source": [
        "reset_rf_samples()\n",
        "model = RandomForestRegressor(n_estimators=160, max_features=0.5, \n",
        "                              n_jobs=-1, oob_score=True)\n",
        "\n",
        "model.fit(X_train, y_train)\n",
        "print_score(model, X_train, y_train, X_valid, y_valid) "
      ],
      "execution_count": 0,
      "outputs": [
        {
          "output_type": "stream",
          "text": [
            "[0.07557393979222281, 0.226703583065468, 0.9880634463968505, 0.9082164730042194, 0.9126379810408702]\n"
          ],
          "name": "stdout"
        }
      ]
    },
    {
      "cell_type": "code",
      "metadata": {
        "id": "eGfVbsG65tj5",
        "colab_type": "code",
        "outputId": "e0245135-fe93-4aa6-dd8c-200a62c6202e",
        "colab": {
          "base_uri": "https://localhost:8080/",
          "height": 34
        }
      },
      "source": [
        "set_rf_samples(80000)\n",
        "model = RandomForestRegressor(n_estimators=200, max_features=0.5, \n",
        "                              n_jobs=-1, oob_score=True)\n",
        "\n",
        "model.fit(X_train, y_train)\n",
        "print_score(model, X_train, y_train, X_valid, y_valid) "
      ],
      "execution_count": 0,
      "outputs": [
        {
          "output_type": "stream",
          "text": [
            "[0.17397019602392205, 0.23587012308425945, 0.9367465043063529, 0.9006440589032713, 0.9046611441998335]\n"
          ],
          "name": "stdout"
        }
      ]
    },
    {
      "cell_type": "code",
      "metadata": {
        "id": "uLvoCGt1YFyf",
        "colab_type": "code",
        "outputId": "2c505c19-879a-4ef6-e86b-0e6f0f47ed0f",
        "colab": {
          "base_uri": "https://localhost:8080/",
          "height": 34
        }
      },
      "source": [
        "reset_rf_samples()\n",
        "model = RandomForestRegressor(n_estimators=100, max_features=0.5, \n",
        "                              n_jobs=-1, oob_score=True)\n",
        "\n",
        "model.fit(X_train, y_train)\n",
        "print_score(model, X_train, y_train, X_valid, y_valid) "
      ],
      "execution_count": 0,
      "outputs": [
        {
          "output_type": "stream",
          "text": [
            "[0.07724360172674587, 0.22864033212199278, 0.987530189377568, 0.9066415444229914, 0.9093497383366543]\n"
          ],
          "name": "stdout"
        }
      ]
    },
    {
      "cell_type": "code",
      "metadata": {
        "id": "KOHAg1QCOqm-",
        "colab_type": "code",
        "outputId": "dfc87019-dfad-41e5-fdd7-183b45895f81",
        "colab": {
          "base_uri": "https://localhost:8080/",
          "height": 162
        }
      },
      "source": [
        "model"
      ],
      "execution_count": 0,
      "outputs": [
        {
          "output_type": "error",
          "ename": "NameError",
          "evalue": "ignored",
          "traceback": [
            "\u001b[0;31m---------------------------------------------------------------------------\u001b[0m",
            "\u001b[0;31mNameError\u001b[0m                                 Traceback (most recent call last)",
            "\u001b[0;32m<ipython-input-3-1f8a688cae5d>\u001b[0m in \u001b[0;36m<module>\u001b[0;34m()\u001b[0m\n\u001b[0;32m----> 1\u001b[0;31m \u001b[0mmodel\u001b[0m\u001b[0;34m\u001b[0m\u001b[0;34m\u001b[0m\u001b[0m\n\u001b[0m",
            "\u001b[0;31mNameError\u001b[0m: name 'model' is not defined"
          ]
        }
      ]
    },
    {
      "cell_type": "code",
      "metadata": {
        "id": "U0L2Wd0HpZes",
        "colab_type": "code",
        "outputId": "93a7e2cf-dbf8-4c0f-e9d2-6527c7579a76",
        "colab": {
          "base_uri": "https://localhost:8080/",
          "height": 104
        }
      },
      "source": [
        "!pip install treeinterpreter"
      ],
      "execution_count": 0,
      "outputs": [
        {
          "output_type": "stream",
          "text": [
            "Collecting treeinterpreter\n",
            "  Downloading https://files.pythonhosted.org/packages/56/cb/78ec761719d2546d4bb75ec02773d01c0a0e8229fe3f8edf6a6ac961e24e/treeinterpreter-0.2.2-py2.py3-none-any.whl\n",
            "Installing collected packages: treeinterpreter\n",
            "Successfully installed treeinterpreter-0.2.2\n"
          ],
          "name": "stdout"
        }
      ]
    },
    {
      "cell_type": "code",
      "metadata": {
        "id": "zJv82U6wbGcr",
        "colab_type": "code",
        "outputId": "037db7bd-78c9-4d94-834a-da53c9723be2",
        "colab": {
          "base_uri": "https://localhost:8080/",
          "height": 70
        }
      },
      "source": [
        "from treeinterpreter import treeinterpreter as ti\n",
        "\n",
        "row = X_valid.values[None, 0]\n",
        "prediction, bias, contributions = ti.predict(model, row)\n",
        "print(prediction[0], bias[0])\n",
        "\n",
        "idxs = np.argsort(contributions[0])\n",
        "results = []\n",
        "\n",
        "for o in zip(X_keep.columns[idxs], X_valid.iloc[0][idxs], contributions[0][idxs]):\n",
        "    results.append(o)\n",
        "print(results)\n"
      ],
      "execution_count": 0,
      "outputs": [
        {
          "output_type": "stream",
          "text": [
            "[9.2282] 10.105781781273345\n",
            "[('ProductSize', 5, -0.5550577126035389), ('fiProductClassDesc', 17, -0.14933092647368548), ('SalesID', 4364751, -0.08427920325274244), ('Enclosure', 1, -0.06835783113229932), ('saleElapsed', 1284595200, -0.0619604707611354), ('fiModelDesc', 3232, -0.05999650594994444), ('fiModelDescriptor', 0, -0.037552378105189216), ('fiSecondaryDesc', 0, -0.028679452834578595), ('MachineID', 2300944, -0.014393575975220613), ('ModelID', 665, -0.009738150257075598), ('Coupler', 3, -0.0004814458029988966), ('Drive_System', 0, 0.006976965753619852), ('ProductGroup', 4, 0.009558560013344302), ('ProductGroupDesc', 4, 0.013027988241732008), ('Hydraulics', 12, 0.015489261380031065), ('Hydraulics_Flow', 0, 0.03172716501497063), ('Coupler_System', 0, 0.046585812879607745), ('YearMade', 1999, 0.06888309475444529)]\n"
          ],
          "name": "stdout"
        }
      ]
    }
  ]
}
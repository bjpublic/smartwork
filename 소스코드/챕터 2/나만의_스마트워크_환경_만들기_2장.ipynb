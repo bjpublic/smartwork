{
  "nbformat": 4,
  "nbformat_minor": 0,
  "metadata": {
    "colab": {
      "name": "나만의 스마트워크 환경 만들기 2장",
      "provenance": [],
      "collapsed_sections": [
        "GgFMGEqFyRA4",
        "CvMGnbCdz8fK",
        "c1f2Xpei1k-I",
        "gxN8XJxj-LSH",
        "33V00D_4Dw-V",
        "C9WMwsuPEYw2",
        "PPUl7_1hEwJL"
      ],
      "toc_visible": true
    },
    "kernelspec": {
      "name": "python3",
      "display_name": "Python 3"
    }
  },
  "cells": [
    {
      "cell_type": "markdown",
      "metadata": {
        "id": "GgFMGEqFyRA4",
        "colab_type": "text"
      },
      "source": [
        "# 변수 [코드 2-1]"
      ]
    },
    {
      "cell_type": "markdown",
      "metadata": {
        "id": "806MSw5vy6vP",
        "colab_type": "text"
      },
      "source": [
        "### 화면에 Hello 라는 글자 출력하기\n",
        "\n",
        "print는 화면에 글자를 출력하는 기능을 가진 함수이다. 출력할 내용을 `( )` 괄호 속에 넣어주면 된다."
      ]
    },
    {
      "cell_type": "code",
      "metadata": {
        "id": "rqg4HqF7yGU1",
        "colab_type": "code",
        "outputId": "d919b5cd-c824-48f0-d874-5d0336a8038f",
        "colab": {
          "base_uri": "https://localhost:8080/",
          "height": 74
        }
      },
      "source": [
        "print('Hello')"
      ],
      "execution_count": 0,
      "outputs": [
        {
          "output_type": "stream",
          "text": [
            "Hello\n"
          ],
          "name": "stdout"
        }
      ]
    },
    {
      "cell_type": "markdown",
      "metadata": {
        "id": "4Sxuft5CzBYy",
        "colab_type": "text"
      },
      "source": [
        "### greeting 변수의 내용을 화면에 문자 출력하기\n",
        "\n",
        "문자를 greeting 이라는 이름의 변수에 담아둔다. print 함수에 문자를 직접적으로 넣어주는것 대신에 문자를 담고 있는 greeting 변수를 넣어줄 수도 있다."
      ]
    },
    {
      "cell_type": "code",
      "metadata": {
        "id": "wPPFGm8qy2JF",
        "colab_type": "code",
        "outputId": "b0f68d40-9590-4ef8-9d57-45b01653497f",
        "colab": {
          "base_uri": "https://localhost:8080/",
          "height": 54
        }
      },
      "source": [
        "greeting = 'Hello Python from String!'\n",
        "print(greeting)"
      ],
      "execution_count": 0,
      "outputs": [
        {
          "output_type": "stream",
          "text": [
            "Hello Python from String!\n"
          ],
          "name": "stdout"
        }
      ]
    },
    {
      "cell_type": "markdown",
      "metadata": {
        "id": "CvMGnbCdz8fK",
        "colab_type": "text"
      },
      "source": [
        "# for 반복문 [코드 2-3]"
      ]
    },
    {
      "cell_type": "markdown",
      "metadata": {
        "id": "6CLtcJ-d0eLE",
        "colab_type": "text"
      },
      "source": [
        "### 숫자 범위 0~2를 순차적으로 접근\n",
        "\n",
        "range `(x, y)` x ~ y 범위를 입력받는 함수이다. 이 때 y는 포함되지 않으며, x, ..., y-1 까지가 범위의 대상이다. 아래의 코드는 그 범위의 숫자를 순차적으로 하나씩 접근하여 index 라는 임시 변수에 담아둔다.\n",
        "\n",
        "for 반복문 안쪽에 위치한 코드는 이 index 라는 변수를 활용해서 작업하는것이 가능하다."
      ]
    },
    {
      "cell_type": "code",
      "metadata": {
        "id": "zdnMDKM1y6Ki",
        "colab_type": "code",
        "outputId": "03aff4fd-7060-4b26-ff57-d9a9c3325696",
        "colab": {
          "base_uri": "https://localhost:8080/",
          "height": 87
        }
      },
      "source": [
        "for index in range(0, 3):\n",
        "  print(index)"
      ],
      "execution_count": 0,
      "outputs": [
        {
          "output_type": "stream",
          "text": [
            "0\n",
            "1\n",
            "2\n"
          ],
          "name": "stdout"
        }
      ]
    },
    {
      "cell_type": "markdown",
      "metadata": {
        "id": "z78w1XKC1FtL",
        "colab_type": "text"
      },
      "source": [
        "### 리스트의 각 요소에 대한 접근\n",
        "\n",
        "range(0, 3) 함수가 만들어내는것은 결국 [0, 1, 2] 라는 리스트이다. 따라서, ['Tom', 'John']과 같이 직접적으로 리스트를 만들어 줘도 되며, 이 때는 숫자 외의 어떠한 값도 넣어줄 수 있다."
      ]
    },
    {
      "cell_type": "code",
      "metadata": {
        "id": "ViM4jOtL0Ja_",
        "colab_type": "code",
        "outputId": "0e931e89-357d-4bc8-bbee-18ba9c7ff412",
        "colab": {
          "base_uri": "https://localhost:8080/",
          "height": 71
        }
      },
      "source": [
        "for name in ['Tom', 'John']:\n",
        "  print(name)"
      ],
      "execution_count": 0,
      "outputs": [
        {
          "output_type": "stream",
          "text": [
            "Tom\n",
            "John\n"
          ],
          "name": "stdout"
        }
      ]
    },
    {
      "cell_type": "markdown",
      "metadata": {
        "id": "tew5_yQo1bAW",
        "colab_type": "text"
      },
      "source": [
        "### 문자열의 각 요소에 대한 접근\n",
        "\n",
        "for 반복문에 문자열을 넣어주면, 해당 문자열을 구성하는 각 문자 요소에 대한 접근도 가능하다."
      ]
    },
    {
      "cell_type": "code",
      "metadata": {
        "id": "VlGC_nZd0M10",
        "colab_type": "code",
        "outputId": "a83459fe-a8d7-43a1-b31c-99ca8bb91361",
        "colab": {
          "base_uri": "https://localhost:8080/",
          "height": 137
        }
      },
      "source": [
        "for letter in 'Python':\n",
        "  print(letter)"
      ],
      "execution_count": 0,
      "outputs": [
        {
          "output_type": "stream",
          "text": [
            "P\n",
            "y\n",
            "t\n",
            "h\n",
            "o\n",
            "n\n"
          ],
          "name": "stdout"
        }
      ]
    },
    {
      "cell_type": "markdown",
      "metadata": {
        "id": "c1f2Xpei1k-I",
        "colab_type": "text"
      },
      "source": [
        "# 자료형 [코드 2-4 ~ 17]"
      ]
    },
    {
      "cell_type": "markdown",
      "metadata": {
        "id": "pHPVqg5Q2kAf",
        "colab_type": "text"
      },
      "source": [
        "## 정수 자료형 [코드 2-4]"
      ]
    },
    {
      "cell_type": "code",
      "metadata": {
        "id": "jYRBkpWR2t2N",
        "colab_type": "code",
        "outputId": "98b1f048-d6a9-4bf2-a8a1-1025325cd933",
        "colab": {
          "base_uri": "https://localhost:8080/",
          "height": 207
        }
      },
      "source": [
        "# 정수 자료형의 값\n",
        "age = 34\n",
        "temperature = -1\n",
        "balance = 0\n",
        "\n",
        "# type 함수로 정수 자료형임을 확인\n",
        "print(type(age))\n",
        "print(type(temperature))\n",
        "print(type(balance))"
      ],
      "execution_count": 0,
      "outputs": [
        {
          "output_type": "stream",
          "text": [
            "<class 'int'>\n",
            "<class 'int'>\n",
            "<class 'int'>\n"
          ],
          "name": "stdout"
        }
      ]
    },
    {
      "cell_type": "markdown",
      "metadata": {
        "id": "Pwx64SkG2mHi",
        "colab_type": "text"
      },
      "source": [
        "## 부동소수 자료형 [코드 2-5]"
      ]
    },
    {
      "cell_type": "code",
      "metadata": {
        "id": "R44Xc97M0P06",
        "colab_type": "code",
        "outputId": "8a546a7b-a626-4173-864d-931361bbd9f0",
        "colab": {
          "base_uri": "https://localhost:8080/",
          "height": 207
        }
      },
      "source": [
        "# 정수 및 부동소수 자료형의 값\n",
        "age = 34\n",
        "temperature = -10.3\n",
        "balance = 0.0\n",
        "\n",
        "# type 함수로 정수 및 부동소수 자료형임을 확인\n",
        "print(type(age))\n",
        "print(type(temperature))\n",
        "print(type(balance))"
      ],
      "execution_count": 0,
      "outputs": [
        {
          "output_type": "stream",
          "text": [
            "<class 'int'>\n",
            "<class 'float'>\n",
            "<class 'float'>\n"
          ],
          "name": "stdout"
        }
      ]
    },
    {
      "cell_type": "markdown",
      "metadata": {
        "id": "TrWlMn1s3FUH",
        "colab_type": "text"
      },
      "source": [
        "### 숫자 연산자 [코드 2-6]"
      ]
    },
    {
      "cell_type": "code",
      "metadata": {
        "id": "St6rF2kY2_s8",
        "colab_type": "code",
        "outputId": "30a330d2-7827-4a2c-ddee-45051541053d",
        "colab": {
          "base_uri": "https://localhost:8080/",
          "height": 193
        }
      },
      "source": [
        "# 1부터 10까지의 숫자를 하나씩 반복문으로 접근\n",
        "for i in range(1, 11):\n",
        "\n",
        "  # 숫자를 5로 나누었을 때, 나머지가 0인 경우\n",
        "  if i % 5 == 0:\n",
        "    print(i)"
      ],
      "execution_count": 0,
      "outputs": [
        {
          "output_type": "stream",
          "text": [
            "5\n",
            "10\n"
          ],
          "name": "stdout"
        }
      ]
    },
    {
      "cell_type": "markdown",
      "metadata": {
        "id": "-ee4Vxc83eS4",
        "colab_type": "text"
      },
      "source": [
        "## 리스트 자료형 [코드 2-7 ~ 8]"
      ]
    },
    {
      "cell_type": "code",
      "metadata": {
        "id": "sO9gH-TL3VvD",
        "colab_type": "code",
        "outputId": "ecc9d5a3-1d86-4302-c44d-c5c64262bbb2",
        "colab": {
          "base_uri": "https://localhost:8080/",
          "height": 154
        }
      },
      "source": [
        "# 정수, 문자열로 구성된 리스트 및 혼합된 리스트\n",
        "nums = [1,2,3,4,5]\n",
        "names = ['Tom', 'John', 'Jerry', 'Lucy', 'Jane']\n",
        "mixed = ['Tom', 24, 2.24, True]\n",
        "\n",
        "print(names[1])"
      ],
      "execution_count": 0,
      "outputs": [
        {
          "output_type": "stream",
          "text": [
            "John\n"
          ],
          "name": "stdout"
        }
      ]
    },
    {
      "cell_type": "code",
      "metadata": {
        "id": "Zj6auLCG3uXz",
        "colab_type": "code",
        "outputId": "c922cae1-9a8f-4550-e49b-289485f2cf79",
        "colab": {
          "base_uri": "https://localhost:8080/",
          "height": 240
        }
      },
      "source": [
        "# 문자열로 구성된 리스트\n",
        "names = ['Tom', 'John', 'Jerry', 'Lucy', 'Jane']\n",
        "\n",
        "for name in names:\n",
        "  print(name)"
      ],
      "execution_count": 0,
      "outputs": [
        {
          "output_type": "stream",
          "text": [
            "Tom\n",
            "John\n",
            "Jerry\n",
            "Lucy\n",
            "Jane\n"
          ],
          "name": "stdout"
        }
      ]
    },
    {
      "cell_type": "markdown",
      "metadata": {
        "id": "exWy5iWG4Z1F",
        "colab_type": "text"
      },
      "source": [
        "## 문자열 자료형 [코드 2-9 ~ 10]"
      ]
    },
    {
      "cell_type": "code",
      "metadata": {
        "id": "dj5C5Eof30gK",
        "colab_type": "code",
        "outputId": "14a5a6a6-549b-4ffc-ccda-866e7af03dfa",
        "colab": {
          "base_uri": "https://localhost:8080/",
          "height": 207
        }
      },
      "source": [
        "# 문자열 자료형 변수\n",
        "greeting = 'Hello Python!'\n",
        "\n",
        "# type 함수로 문자열 자료형임을 확인\n",
        "print(type(greeting))\n",
        "\n",
        "# 문자열의 7번째 문자를 출력\n",
        "print(greeting[6])\n",
        "\n",
        "# 문자열을 구성하는 개별 문자의 자료형을 확인\n",
        "print(type(greeting[6]))"
      ],
      "execution_count": 0,
      "outputs": [
        {
          "output_type": "stream",
          "text": [
            "<class 'str'>\n",
            "P\n",
            "<class 'str'>\n"
          ],
          "name": "stdout"
        }
      ]
    },
    {
      "cell_type": "code",
      "metadata": {
        "id": "XC3YEUEA5t8L",
        "colab_type": "code",
        "outputId": "a28f0395-e3e4-409a-9943-478666abe1a9",
        "colab": {
          "base_uri": "https://localhost:8080/",
          "height": 154
        }
      },
      "source": [
        "# 문자열 자료형 변수\n",
        "f_letter = 'H'\n",
        "s_letter = 'i'\n",
        "name = 'Python!'\n",
        "\n",
        "# 각 문자열 값을 이어 붙\n",
        "greeting = f_letter + s_letter + ' ' + name\n",
        "print(greeting)"
      ],
      "execution_count": 0,
      "outputs": [
        {
          "output_type": "stream",
          "text": [
            "Hi Python!\n"
          ],
          "name": "stdout"
        }
      ]
    },
    {
      "cell_type": "markdown",
      "metadata": {
        "id": "pz64iRPQ5-Pt",
        "colab_type": "text"
      },
      "source": [
        "## 불리언 자료형 [코드 2-11 ~ 12]\n"
      ]
    },
    {
      "cell_type": "code",
      "metadata": {
        "id": "jOMoLuyH57_0",
        "colab_type": "code",
        "outputId": "17c39b82-364f-41b0-8f54-7958dd2b0ae7",
        "colab": {
          "base_uri": "https://localhost:8080/",
          "height": 207
        }
      },
      "source": [
        "# 불리언 자료형 변수\n",
        "is_weekend = True\n",
        "is_empty = False\n",
        "\n",
        "# 불리언 값 간의 and, or 연산\n",
        "print(is_weekend and is_empty)\n",
        "print(is_weekend or is_empty)\n",
        "\n",
        "# 불리언 값에 not 연산\n",
        "print(not is_weekend)"
      ],
      "execution_count": 0,
      "outputs": [
        {
          "output_type": "stream",
          "text": [
            "False\n",
            "True\n",
            "False\n"
          ],
          "name": "stdout"
        }
      ]
    },
    {
      "cell_type": "code",
      "metadata": {
        "id": "1UZm1Uyf6N-u",
        "colab_type": "code",
        "outputId": "3d28a232-af8f-46a1-a785-dbf3595bf2da",
        "colab": {
          "base_uri": "https://localhost:8080/",
          "height": 154
        }
      },
      "source": [
        "# 정수형 값 두 개를 선언\n",
        "tom_age = 34\n",
        "jerry_age = 40\n",
        "\n",
        "# 정수형 값 비교로 얻은 불리언 \n",
        "is_tom_older = tom_age > jerry_age\n",
        "print(is_tom_older)"
      ],
      "execution_count": 0,
      "outputs": [
        {
          "output_type": "stream",
          "text": [
            "False\n"
          ],
          "name": "stdout"
        }
      ]
    },
    {
      "cell_type": "markdown",
      "metadata": {
        "id": "TMk0ESUs6gH9",
        "colab_type": "text"
      },
      "source": [
        "## 딕셔너리 자료형 [코드 2-13 ~ 17]"
      ]
    },
    {
      "cell_type": "code",
      "metadata": {
        "id": "V51bN9m36epf",
        "colab_type": "code",
        "colab": {}
      },
      "source": [
        "# 딕셔너리 자료형 변수 선언\n",
        "person1 = {\n",
        "    \"name\": \"박찬성\",\n",
        "    \"age\": 35,\n",
        "    \"sex\": \"남\",\n",
        "    \"married\": True\n",
        "}\n",
        "\n",
        "person2 = {\n",
        "    \"name\": \"Lucy 최\",\n",
        "    \"age\": 34,\n",
        "    \"sex\": \"여\",\n",
        "    \"married\": True\n",
        "}\n",
        "\n",
        "person3 = {\n",
        "    \"name\": \"박다경\",\n",
        "    \"age\": 1,\n",
        "    \"sex\": \"여\",\n",
        "    \"married\": False\n",
        "}\n",
        "\n",
        "# 중첩된 딕셔너리 자료형 변수 선언\n",
        "family = {\n",
        "    \"아빠\": person1,\n",
        "    \"엄마\": person2,\n",
        "    \"딸\": person3\n",
        "}"
      ],
      "execution_count": 0,
      "outputs": []
    },
    {
      "cell_type": "code",
      "metadata": {
        "id": "8qF-V0T963Eo",
        "colab_type": "code",
        "outputId": "51a50631-10f1-4ac9-b83d-e9486535a95c",
        "colab": {
          "base_uri": "https://localhost:8080/",
          "height": 260
        }
      },
      "source": [
        "# 딕셔너리 변수에 담긴 '아빠'라는 키에 매핑된 값을 출력\n",
        "print(family[\"아빠\"])\n",
        "\n",
        "# 딕셔너리 변수에 담긴 '아빠'라는 키에 매핑된 값(딕셔너리)로부터\n",
        "# 'name' 이라는 키에 매핑된 값을 출력\n",
        "print(family[\"아빠\"][\"name\"])\n",
        "\n",
        "# family 딕셔너리의 모든 키를 순회하여 방문\n",
        "for member in family:\n",
        "  print(member + ': ' + str(family[member]))"
      ],
      "execution_count": 0,
      "outputs": [
        {
          "output_type": "stream",
          "text": [
            "{'name': '가상의 언니', 'age': 5, 'sex': '여', 'married': False}\n",
            "가상의 언니\n",
            "아빠: {'name': '가상의 언니', 'age': 5, 'sex': '여', 'married': False}\n",
            "엄마: {'name': 'Lucy 최', 'age': 34, 'sex': '여', 'married': True}\n",
            "딸: {'name': '박다경', 'age': 1, 'sex': '여', 'married': False}\n",
            "언니: {'name': '가상의 언니', 'age': 5, 'sex': '여', 'married': False}\n"
          ],
          "name": "stdout"
        }
      ]
    },
    {
      "cell_type": "code",
      "metadata": {
        "id": "CNRXdHZR7E92",
        "colab_type": "code",
        "outputId": "8608a2ed-5641-44b6-a0d1-a7536e7abd11",
        "colab": {
          "base_uri": "https://localhost:8080/",
          "height": 193
        }
      },
      "source": [
        "# 딕셔너리에 특정 키가 존재하는지 체크\n",
        "print(\"아빠\" in family)\n",
        "print(\"언니\" in family)"
      ],
      "execution_count": 0,
      "outputs": [
        {
          "output_type": "stream",
          "text": [
            "True\n",
            "True\n"
          ],
          "name": "stdout"
        }
      ]
    },
    {
      "cell_type": "code",
      "metadata": {
        "id": "hz4CHPNA7Xz6",
        "colab_type": "code",
        "outputId": "4c8b698c-3459-49a7-ed0a-b9b9783ea02f",
        "colab": {
          "base_uri": "https://localhost:8080/",
          "height": 173
        }
      },
      "source": [
        "# 새로운 딕셔너리형 변수인 person4를 정의\n",
        "person4 = {\n",
        "    \"name\": \"가상의 언니\",\n",
        "    \"age\": 5,\n",
        "    \"sex\": \"여\",\n",
        "    \"married\": False\n",
        "}\n",
        "\n",
        "# 기존 family 딕셔너리에 새로운 키인 \"언니\"를 추가하고\n",
        "# 매핑된 값으로 person4를 대입\n",
        "family[\"언니\"] = person4\n",
        "print(family[\"언니\"])\n",
        "\n",
        "# 기존에 존재하는 키인 \"아빠\"에 새로운 값을 매핑\n",
        "family[\"아빠\"] = person4\n",
        "print(family[\"아빠\"])"
      ],
      "execution_count": 0,
      "outputs": [
        {
          "output_type": "stream",
          "text": [
            "{'name': '가상의 언니', 'age': 5, 'sex': '여', 'married': False}\n",
            "{'name': '가상의 언니', 'age': 5, 'sex': '여', 'married': False}\n"
          ],
          "name": "stdout"
        }
      ]
    },
    {
      "cell_type": "code",
      "metadata": {
        "id": "8hp9egZ97ty2",
        "colab_type": "code",
        "outputId": "b6148f21-1557-4b9d-cecd-4c45cee554de",
        "colab": {
          "base_uri": "https://localhost:8080/",
          "height": 187
        }
      },
      "source": [
        "# \"아빠\"라는 키와 매핑된 값을 family 딕셔너리로부터 삭제\n",
        "del family[\"아빠\"]\n",
        "\n",
        "# 삭제된 결과 확인\n",
        "for member in family:\n",
        "  print(member + ': ' + str(family[member]))"
      ],
      "execution_count": 0,
      "outputs": [
        {
          "output_type": "stream",
          "text": [
            "엄마: {'name': 'Lucy 최', 'age': 34, 'sex': '여', 'married': True}\n",
            "딸: {'name': '박다경', 'age': 1, 'sex': '여', 'married': False}\n",
            "언니: {'name': '가상의 언니', 'age': 5, 'sex': '여', 'married': False}\n"
          ],
          "name": "stdout"
        }
      ]
    },
    {
      "cell_type": "markdown",
      "metadata": {
        "id": "gxN8XJxj-LSH",
        "colab_type": "text"
      },
      "source": [
        "# 함수의 정의"
      ]
    },
    {
      "cell_type": "code",
      "metadata": {
        "id": "I_as-W7N-1NS",
        "colab_type": "code",
        "colab": {}
      },
      "source": [
        "def tax_included_by_country(country):\n",
        "  if country is 'US':\n",
        "    return True \n",
        "  \n",
        "  return False"
      ],
      "execution_count": 0,
      "outputs": []
    },
    {
      "cell_type": "code",
      "metadata": {
        "id": "gyzry-_I_A5p",
        "colab_type": "code",
        "colab": {}
      },
      "source": [
        "def get_tax_by_country(country):\n",
        "  if country is 'US':\n",
        "    return \n",
        "  \n",
        "  return 0"
      ],
      "execution_count": 0,
      "outputs": []
    },
    {
      "cell_type": "code",
      "metadata": {
        "id": "r7Ge_wQe70XC",
        "colab_type": "code",
        "colab": {}
      },
      "source": [
        "# 세금을 고려한 청구비용 계산\n",
        "def bill_calc(country, prices):\n",
        "  is_tax_included = tax_included_by_country(country)\n",
        "  tax_rate = 0  \n",
        "\n",
        "  if (is_tax_included is True):\n",
        "    tax_rate = get_tax_by_country(country)\n",
        "  \n",
        "  total = sum(prices)\n",
        "  tax = total * tax_rate / 100\n",
        "  bill = total + tax\n",
        "  \n",
        "  return bill"
      ],
      "execution_count": 0,
      "outputs": []
    },
    {
      "cell_type": "code",
      "metadata": {
        "id": "qzITfZAQ_amH",
        "colab_type": "code",
        "outputId": "52258e0c-ff8f-4d40-bebc-93c43ec55e89",
        "colab": {
          "base_uri": "https://localhost:8080/",
          "height": 174
        }
      },
      "source": [
        "# 세금을 고려한 청구비용 계산 테스트\n",
        "list_prices = [ [10.5, 8, 7.5], [5.5, 7.5, 20, 10.5] ]\n",
        "total_sum = 0\n",
        "\n",
        "for prices in list_prices:\n",
        "  total_sum += bill_calc('US', prices)\n",
        "\n",
        "print(total_sum)"
      ],
      "execution_count": 0,
      "outputs": [
        {
          "output_type": "stream",
          "text": [
            "90.35\n"
          ],
          "name": "stdout"
        }
      ]
    },
    {
      "cell_type": "markdown",
      "metadata": {
        "id": "33V00D_4Dw-V",
        "colab_type": "text"
      },
      "source": [
        "# 사용자 정의 자료형"
      ]
    },
    {
      "cell_type": "code",
      "metadata": {
        "id": "guI2gASc_cLs",
        "colab_type": "code",
        "colab": {}
      },
      "source": [
        "# 사람을 나타내는 클래스의 정의\n",
        "class Person:\n",
        "  # 생성자 메서드 정의\n",
        "  def __init__(self, name, birthday, id):\n",
        "    self.name, self.birthday, self.id = name, birthday, id\n",
        "    \n",
        "  # 객체를 문자열로 표현하는 __str__ 메서드 정의\n",
        "  def __str__(self):\n",
        "    return \"이름: \" + self.name + \", 생일:\" + self.birthday + \", 아이디:\" + self.id\n",
        "\n",
        "  # 리스트에서 객체를 문자열로 표현하는 __repr__ 메서드 정의\n",
        "  def __repr__(self):\n",
        "    return \"이름: \" + self.name + \", 생일:\" + self.birthday + \", 아이디:\" + self.id"
      ],
      "execution_count": 0,
      "outputs": []
    },
    {
      "cell_type": "code",
      "metadata": {
        "id": "bkOzmoPsEABU",
        "colab_type": "code",
        "colab": {}
      },
      "source": [
        "# Person 클래스를 상속하는 Employee 클래스의 정의\n",
        "class Employee(Person):\n",
        "  # 생성자 메서드 정의\n",
        "  def __init__(self, name, birthday, id, salary, career_year):\n",
        "    # Person 클래스의 생성자 호출\n",
        "    super().__init__(name, birthday, id)\n",
        "    self.salary, self.career_year = salary, career_year\n",
        "    \n",
        "  # 객체를 문자열로 표현하는 __str__ 메서드 정의\n",
        "  def __str__(self):\n",
        "    return super().__str__() + \", 연봉: \" + str(self.salary) + \", 경력 연차: \" + str(self.career_year)\n",
        "    \n",
        "  # 리스트에서 객체를 문자열로 표현하는 __repl__ 메서드 정의\n",
        "  def __repr__(self):\n",
        "    return super().__repr__() + \", 연봉: \" + str(self.salary) + \", 경력 연차: \" + str(self.career_year)"
      ],
      "execution_count": 0,
      "outputs": []
    },
    {
      "cell_type": "markdown",
      "metadata": {
        "id": "C9WMwsuPEYw2",
        "colab_type": "text"
      },
      "source": [
        "# 키보드 입력"
      ]
    },
    {
      "cell_type": "code",
      "metadata": {
        "id": "orlVprFpEXhE",
        "colab_type": "code",
        "outputId": "195ddb99-4521-4924-bf69-512b6bf7a471",
        "colab": {
          "base_uri": "https://localhost:8080/",
          "height": 220
        }
      },
      "source": [
        "name = input(\"이름:\" )"
      ],
      "execution_count": 0,
      "outputs": [
        {
          "output_type": "stream",
          "text": [
            "이름:박찬성\n"
          ],
          "name": "stdout"
        }
      ]
    },
    {
      "cell_type": "code",
      "metadata": {
        "id": "D-OkVJCCESWT",
        "colab_type": "code",
        "outputId": "5eed4f85-79cf-416c-e085-7f48edbf7d19",
        "colab": {
          "base_uri": "https://localhost:8080/",
          "height": 220
        }
      },
      "source": [
        "age = input(\"나이: \")"
      ],
      "execution_count": 0,
      "outputs": [
        {
          "output_type": "stream",
          "text": [
            "나이: 33\n"
          ],
          "name": "stdout"
        }
      ]
    },
    {
      "cell_type": "code",
      "metadata": {
        "id": "XOVJ4uZUEfze",
        "colab_type": "code",
        "outputId": "121d55db-452e-44dc-cdcc-05303b3431a4",
        "colab": {
          "base_uri": "https://localhost:8080/",
          "height": 154
        }
      },
      "source": [
        "print(\"이름: \" + name + \", 나이: \" + age)"
      ],
      "execution_count": 0,
      "outputs": [
        {
          "output_type": "stream",
          "text": [
            "이름: 박찬성, 나이: 33\n"
          ],
          "name": "stdout"
        }
      ]
    },
    {
      "cell_type": "markdown",
      "metadata": {
        "id": "PPUl7_1hEwJL",
        "colab_type": "text"
      },
      "source": [
        "# 파일 입출력"
      ]
    },
    {
      "cell_type": "code",
      "metadata": {
        "id": "OJ9BffFDEi3G",
        "colab_type": "code",
        "colab": {}
      },
      "source": [
        "# resume.txt 파일을 텍스트 쓰기 모드로 연다\n",
        "text_file = open('resume.txt', mode='w')\n",
        "\n",
        "# \"신상정보\" 라는 문자열과 마지막에 개행 문자인 \"\\n\"를 파일로 출력한다\n",
        "text_file.write('신상정보\\n')\n",
        "\n",
        "# 세 개의 문자열 행을 일괄적으로 파일로 출력\n",
        "text_file.writelines(['이름: 박찬성\\n', '나이: 35\\n', '직업: 소프트웨어 엔지니어\\n'])\n",
        "\n",
        "# 네 개의 문자열 행 정보를 담는 리스트를 생성\n",
        "texts = ['주소: 세종특별자치시\\n', '학력: 대졸\\n', '전문 분야: 컴퓨터 네트워킹, 머신러닝\\n ', '프로그래밍 스킬: C/C++,JAVA,Python,Go,TensorFlow,PyTorch\\n']\n",
        "\n",
        "# 리스트에 담긴 문자열을 for 반복문으로, 하나씩 방문하여 각각을 파일로 출력\n",
        "for text in texts:\n",
        "  text_file.write(text)\n",
        "\n",
        "# 파일을 열고, 작업을 다 하고 나면 반드시 닫아 줘야 함\n",
        "text_file.close()"
      ],
      "execution_count": 0,
      "outputs": []
    },
    {
      "cell_type": "code",
      "metadata": {
        "id": "NBg-JsTkFV78",
        "colab_type": "code",
        "outputId": "9709426d-e16e-4540-b0c3-0d10a9e29cf0",
        "colab": {
          "base_uri": "https://localhost:8080/",
          "height": 94
        }
      },
      "source": [
        "# resume.txt 파일을 텍스트 읽기 모드로 연다\n",
        "text_file = open('resume.txt', mode='r')\n",
        "\n",
        "# 파일의 각 행을 담아 두기 위한 리스트 생성\n",
        "texts = []\n",
        "\n",
        "# 파일의 끝에 도달할 때까지 무한정 반복을 수행\n",
        "while True:\n",
        "  # 반복문을 돌 때마다 파일로부터 한 행의 정보를 읽어 옴\n",
        "  text = text_file.readline()\n",
        "\n",
        "  # 읽어 온 내용이 어떠한 문자도 포함하지 않는 경우, 파일의 끝이라 판단\n",
        "  if text == '':\n",
        "    break\n",
        "  # 그렇지 않은 경우, 읽어 온 내용을 리스트에 추가\n",
        "  else:\n",
        "    texts.append(text)\n",
        "\n",
        "text_file.close()\n",
        "print(texts)"
      ],
      "execution_count": 0,
      "outputs": [
        {
          "output_type": "stream",
          "text": [
            "['신상정보\\n', '이름: 박찬성\\n', '나이: 35\\n', '직업: 소프트웨어 엔지니어\\n', '주소: 세종특별자치시\\n', '학력: 대졸\\n', '전문 분야: 컴퓨터 네트워킹, 머신러닝\\n', ' 프로그래밍 스킬: C/C++,JAVA,Python,Go,TensorFlow,PyTorch\\n']\n"
          ],
          "name": "stdout"
        }
      ]
    },
    {
      "cell_type": "code",
      "metadata": {
        "id": "l9rTu61qFsRE",
        "colab_type": "code",
        "outputId": "c929cc7e-87fb-42b3-cb73-0f9cbfbc254d",
        "colab": {
          "base_uri": "https://localhost:8080/",
          "height": 74
        }
      },
      "source": [
        "text_file = open('resume.txt', mode='r')\n",
        "\n",
        "texts = []\n",
        "\n",
        "# for … in 문법으로, 파일의 끝이 어딘지 검사할 필요가 없음\n",
        "for line in text_file:\n",
        "  texts.append(line)\n",
        "\n",
        "text_file.close()\n",
        "print(texts)"
      ],
      "execution_count": 0,
      "outputs": [
        {
          "output_type": "stream",
          "text": [
            "['신상정보\\n', '이름: 박찬성\\n', '나이: 35\\n', '직업: 소프트웨어 엔지니어\\n', '주소: 세종특별자치시\\n', '학력: 대졸\\n', '전문 분야: 컴퓨터 네트워킹, 머신러닝\\n', ' 프로그래밍 스킬: C/C++,JAVA,Python,Go,TensorFlow,PyTorch\\n']\n"
          ],
          "name": "stdout"
        }
      ]
    },
    {
      "cell_type": "markdown",
      "metadata": {
        "id": "NxgcIaZBGSOv",
        "colab_type": "text"
      },
      "source": [
        "## 바이너리 파일"
      ]
    },
    {
      "cell_type": "code",
      "metadata": {
        "id": "FUZNQu4hFx2x",
        "colab_type": "code",
        "colab": {}
      },
      "source": [
        "# struct 패키지 불러오기\n",
        "import struct\n",
        "\n",
        "# binary_file 파일을 바이너리(b) 쓰기(w) 모드로 연다\n",
        "b_file = open('binary_file', mode='wb')\n",
        "\n",
        "# 파일에 출력할 다양한 데이터를 선언\n",
        "title = '바이너리 파일'\n",
        "data1 = 100\n",
        "data2 = 11.11\n",
        "data3 = True\n",
        "\n",
        "# 데이터를 바이너리 파일에 쓰기 위한 형태로 변환 후 출력\n",
        "# 문자열은 encode, 나머지는 struct.pack을 사용 가능\n",
        "b_file.write(title.encode())\n",
        "b_file.write(struct.pack('i', data1))\n",
        "b_file.write(struct.pack('f', data2))\n",
        "b_file.write(struct.pack('?', data3))\n",
        "b_file.close()"
      ],
      "execution_count": 0,
      "outputs": []
    },
    {
      "cell_type": "code",
      "metadata": {
        "id": "bCx1YU8tGa4c",
        "colab_type": "code",
        "outputId": "d262ea74-d440-46f4-bac8-e4814954eeb6",
        "colab": {
          "base_uri": "https://localhost:8080/",
          "height": 104
        }
      },
      "source": [
        "# struct 패키지 불러오기\n",
        "import struct\n",
        "\n",
        "# binary_file을 바이너리 읽기 모드로 연다\n",
        "b_file = open('binary_file', mode='rb')\n",
        "b_title = b_file.read(19)\n",
        "b_data1 = b_file.read(4)\n",
        "b_data2 = b_file.read(4)\n",
        "b_data3 = b_file.read(1)\n",
        "b_file.close()\n",
        "\n",
        "# 읽힌 데이터는 바이너리(bytes) 형태로, 이를 각 데이터형에 맞게 변환\n",
        "# 문자열은 decode, 나머지는 struct.unpack을 활용 가능\n",
        "print(b_title.decode())\n",
        "print(struct.unpack('i', b_data1))\n",
        "print(struct.unpack('f', b_data2))\n",
        "print(struct.unpack('?', b_data3))"
      ],
      "execution_count": 0,
      "outputs": [
        {
          "output_type": "stream",
          "text": [
            "바이너리 파일\n",
            "(100,)\n",
            "(11.109999656677246,)\n",
            "(True,)\n"
          ],
          "name": "stdout"
        }
      ]
    },
    {
      "cell_type": "markdown",
      "metadata": {
        "id": "RCdpARYlGubB",
        "colab_type": "text"
      },
      "source": [
        "## with 구문"
      ]
    },
    {
      "cell_type": "code",
      "metadata": {
        "id": "-9a4yhjOGpZz",
        "colab_type": "code",
        "outputId": "f943d5a9-ae2f-485b-9cd6-81cbf0a184d4",
        "colab": {
          "base_uri": "https://localhost:8080/",
          "height": 54
        }
      },
      "source": [
        "texts = []\n",
        "\n",
        "# with 구문을 사용하여 열린 파일이 사용될 범위를 한정 짓는다\n",
        "with open('resume.txt', mode='r') as file:\n",
        "  for line in file:\n",
        "    texts.append(line)\n",
        "\n",
        "print(texts)"
      ],
      "execution_count": 0,
      "outputs": [
        {
          "output_type": "stream",
          "text": [
            "['신상정보\\n', '이름: 박찬성\\n', '나이: 35\\n', '직업: 소프트웨어 엔지니어\\n', '주소: 세종특별자치시\\n', '학력: 대졸\\n', '전문 분야: 컴퓨터 네트워킹, 머신러닝\\n', ' 프로그래밍 스킬: C/C++,JAVA,Python,Go,TensorFlow,PyTorch\\n']\n"
          ],
          "name": "stdout"
        }
      ]
    },
    {
      "cell_type": "markdown",
      "metadata": {
        "id": "0dxxJxMCG24V",
        "colab_type": "text"
      },
      "source": [
        "## pickle"
      ]
    },
    {
      "cell_type": "code",
      "metadata": {
        "id": "opVkKqawG1mz",
        "colab_type": "code",
        "colab": {}
      },
      "source": [
        "# Pickle 라이브러리를 불러온다\n",
        "import pickle\n",
        "\n",
        "emp1 = Employee(\"박찬성\", \"851223\", \"1\", 3000, 7)\n",
        "emp2 = Employee(\"김제리\", \"890511\", \"2\", 5000, 2)\n",
        "emps = [Employee(\"서은교\", \"891111\", \"3\", 4000, 5), Employee(\"김태균\", \"860543\", \"4\", 3500, 7)]\n",
        "\n",
        "# 하나의 Employee 객체를 파일로 저장\n",
        "with open('bin_emp1.pkl', 'wb') as file:\n",
        "  pickle.dump(emp1, file)\n",
        "\n",
        "# 두 개의 Employee 객체를 연속적으로 파일로 저장\n",
        "with open('bin_emp1_emp2.pkl', 'wb') as file:\n",
        "  pickle.dump(emp1, file)\n",
        "  pickle.dump(emp2, file)\n",
        "\n",
        "# 여러 Employee 객체를 포함한 리스트를 파일로 저장\n",
        "with open('bin_emps.pkl', 'wb') as file:\n",
        "  pickle.dump(emps, file)"
      ],
      "execution_count": 0,
      "outputs": []
    },
    {
      "cell_type": "code",
      "metadata": {
        "id": "MheiMeaNHFxm",
        "colab_type": "code",
        "outputId": "86e95d57-c33f-45b5-f909-3403e3c8eda5",
        "colab": {
          "base_uri": "https://localhost:8080/",
          "height": 54
        }
      },
      "source": [
        "import pickle\n",
        "\n",
        "# bin_emp1.pkl 파일을 불러온다\n",
        "with open('bin_emp1.pkl', mode='rb') as file:\n",
        "  object1 = pickle.load(file)\n",
        "\n",
        "print(object1)"
      ],
      "execution_count": 0,
      "outputs": [
        {
          "output_type": "stream",
          "text": [
            "이름: 박찬성, 생일:851223, 아이디:1, 연봉: 3000, 경력 연차: 7\n"
          ],
          "name": "stdout"
        }
      ]
    },
    {
      "cell_type": "code",
      "metadata": {
        "id": "Yh09mbQZHLad",
        "colab_type": "code",
        "outputId": "7cce69da-e24a-4ac5-8785-4ed3deea0fda",
        "colab": {
          "base_uri": "https://localhost:8080/",
          "height": 71
        }
      },
      "source": [
        "# bin_emp1_emp2.pkl 파일을 불러온다\n",
        "with open('bin_emp1_emp2.pkl', 'rb') as file:\n",
        "  object1 = pickle.load(file)\n",
        "  object2 = pickle.load(file)\n",
        "\n",
        "print(object1)\n",
        "print(object2)"
      ],
      "execution_count": 0,
      "outputs": [
        {
          "output_type": "stream",
          "text": [
            "이름: 박찬성, 생일:851223, 아이디:1, 연봉: 3000, 경력 연차: 7\n",
            "이름: 김제리, 생일:890511, 아이디:2, 연봉: 5000, 경력 연차: 2\n"
          ],
          "name": "stdout"
        }
      ]
    },
    {
      "cell_type": "code",
      "metadata": {
        "id": "tUXa1iNzHQcr",
        "colab_type": "code",
        "outputId": "993f0e32-966b-46d6-ba07-eb93adbb2a45",
        "colab": {
          "base_uri": "https://localhost:8080/",
          "height": 125
        }
      },
      "source": [
        "# bin_emps.pkl 파일을 불러온다\n",
        "with open('bin_emps.pkl', 'rb') as file:\n",
        "  objects = pickle.load(file)\n",
        "\n",
        "print(len(objects))\n",
        "print(objects)\n",
        "print(objects[0])\n",
        "print(objects[1])"
      ],
      "execution_count": 0,
      "outputs": [
        {
          "output_type": "stream",
          "text": [
            "2\n",
            "[이름: 서은교, 생일:891111, 아이디:3, 연봉: 4000, 경력 연차: 5, 이름: 김태균, 생일:860543, 아이디:4, 연봉: 3500, 경력 연차: 7]\n",
            "이름: 서은교, 생일:891111, 아이디:3, 연봉: 4000, 경력 연차: 5\n",
            "이름: 김태균, 생일:860543, 아이디:4, 연봉: 3500, 경력 연차: 7\n"
          ],
          "name": "stdout"
        }
      ]
    },
    {
      "cell_type": "code",
      "metadata": {
        "id": "uahd6nxUHaTu",
        "colab_type": "code",
        "colab": {}
      },
      "source": [
        ""
      ],
      "execution_count": 0,
      "outputs": []
    }
  ]
}